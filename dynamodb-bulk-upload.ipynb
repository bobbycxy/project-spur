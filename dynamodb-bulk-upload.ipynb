{
 "cells": [
  {
   "cell_type": "markdown",
   "metadata": {},
   "source": [
    "# Inserting Values into DynamoDB"
   ]
  },
  {
   "cell_type": "code",
   "execution_count": 29,
   "metadata": {},
   "outputs": [],
   "source": [
    "## import libraries\n",
    "\n",
    "import boto3\n",
    "import pandas as pd\n",
    "from boto3.dynamodb.conditions import Key\n",
    "import json\n",
    "\n",
    "# Creating the DynamoDB Client\n",
    "dynamodb_client = boto3.client('dynamodb')\n",
    "\n",
    "# Creating the DynamoDB Table Resource\n",
    "dynamodb = boto3.resource('dynamodb')\n"
   ]
  },
  {
   "cell_type": "code",
   "execution_count": null,
   "metadata": {},
   "outputs": [],
   "source": [
    "## Create Members table in DynamoDB\n",
    "## the name will be the partition key\n",
    "## the role will be the sort\n",
    "\n",
    "response = dynamodb_client.create_table(\n",
    "    TableName = 'person',\n",
    "    KeySchema = [\n",
    "        {\n",
    "            \"AttributeName\":\"name\",\n",
    "            \"KeyType\":\"HASH\"\n",
    "        },\n",
    "        {\n",
    "            \"AttributeName\":\"role\",\n",
    "            \"KeyType\":\"RANGE\"\n",
    "        }\n",
    "    ],\n",
    "    AttributeDefinitions = [\n",
    "        {\n",
    "            \"AttributeName\":\"name\",\n",
    "            \"AttributeType\":\"S\"\n",
    "        },\n",
    "        {\n",
    "            \"AttributeName\":\"role\",\n",
    "            \"AttributeType\":\"S\"\n",
    "        }\n",
    "    ],\n",
    "    ProvisionedThroughput = {\n",
    "        \"ReadCapacityUnits\": 1,\n",
    "        \"WriteCapacityUnits\": 1\n",
    "    }\n",
    ")\n",
    "\n",
    "print(response)"
   ]
  },
  {
   "cell_type": "code",
   "execution_count": 32,
   "metadata": {},
   "outputs": [
    {
     "name": "stdout",
     "output_type": "stream",
     "text": [
      "{'name': 'Bobby Cheng', 'role': 'Leader', 'cell_group': 'ONE', 'telegram_id': 'None', 'birth_date': '01-01-2000'}\n",
      "{'name': {'S': 'Bobby Cheng'}, 'role': {'S': 'Leader'}, 'cell_group': {'S': 'ONE'}, 'telegram_id': {'S': 'None'}, 'birth_date': {'S': '01-01-2000'}}\n",
      "UPLOADING ITEM\n",
      "{'ResponseMetadata': {'RequestId': 'PCFT5LJ0FHIDE82CVQRU7VTSNBVV4KQNSO5AEMVJF66Q9ASUAAJG', 'HTTPStatusCode': 200, 'HTTPHeaders': {'server': 'Server', 'date': 'Thu, 08 Feb 2024 04:02:14 GMT', 'content-type': 'application/x-amz-json-1.0', 'content-length': '2', 'connection': 'keep-alive', 'x-amzn-requestid': 'PCFT5LJ0FHIDE82CVQRU7VTSNBVV4KQNSO5AEMVJF66Q9ASUAAJG', 'x-amz-crc32': '2745614147'}, 'RetryAttempts': 0}}\n",
      "{'name': 'Phoebe Chan', 'role': 'Leader', 'cell_group': 'ONE', 'telegram_id': 'None', 'birth_date': '01-01-2000'}\n",
      "{'name': {'S': 'Phoebe Chan'}, 'role': {'S': 'Leader'}, 'cell_group': {'S': 'ONE'}, 'telegram_id': {'S': 'None'}, 'birth_date': {'S': '01-01-2000'}}\n",
      "UPLOADING ITEM\n",
      "{'ResponseMetadata': {'RequestId': '4SH5KRT9TCMDE07EDF6F366SMBVV4KQNSO5AEMVJF66Q9ASUAAJG', 'HTTPStatusCode': 200, 'HTTPHeaders': {'server': 'Server', 'date': 'Thu, 08 Feb 2024 04:02:14 GMT', 'content-type': 'application/x-amz-json-1.0', 'content-length': '2', 'connection': 'keep-alive', 'x-amzn-requestid': '4SH5KRT9TCMDE07EDF6F366SMBVV4KQNSO5AEMVJF66Q9ASUAAJG', 'x-amz-crc32': '2745614147'}, 'RetryAttempts': 0}}\n",
      "{'name': 'Caleb Chan', 'role': 'Leader', 'cell_group': 'ONE', 'telegram_id': 'None', 'birth_date': '01-01-2000'}\n",
      "{'name': {'S': 'Caleb Chan'}, 'role': {'S': 'Leader'}, 'cell_group': {'S': 'ONE'}, 'telegram_id': {'S': 'None'}, 'birth_date': {'S': '01-01-2000'}}\n",
      "UPLOADING ITEM\n",
      "{'ResponseMetadata': {'RequestId': '6LCDESHRG4LBERIHVIKGF3CCOFVV4KQNSO5AEMVJF66Q9ASUAAJG', 'HTTPStatusCode': 200, 'HTTPHeaders': {'server': 'Server', 'date': 'Thu, 08 Feb 2024 04:02:15 GMT', 'content-type': 'application/x-amz-json-1.0', 'content-length': '2', 'connection': 'keep-alive', 'x-amzn-requestid': '6LCDESHRG4LBERIHVIKGF3CCOFVV4KQNSO5AEMVJF66Q9ASUAAJG', 'x-amz-crc32': '2745614147'}, 'RetryAttempts': 0}}\n",
      "{'name': 'Gilia Quek', 'role': 'Member', 'cell_group': 'ONE', 'telegram_id': 'None', 'birth_date': '01-01-2000'}\n",
      "{'name': {'S': 'Gilia Quek'}, 'role': {'S': 'Member'}, 'cell_group': {'S': 'ONE'}, 'telegram_id': {'S': 'None'}, 'birth_date': {'S': '01-01-2000'}}\n",
      "UPLOADING ITEM\n",
      "{'ResponseMetadata': {'RequestId': 'JVUDSQBB6KIBU85FV34DRR6A1JVV4KQNSO5AEMVJF66Q9ASUAAJG', 'HTTPStatusCode': 200, 'HTTPHeaders': {'server': 'Server', 'date': 'Thu, 08 Feb 2024 04:02:15 GMT', 'content-type': 'application/x-amz-json-1.0', 'content-length': '2', 'connection': 'keep-alive', 'x-amzn-requestid': 'JVUDSQBB6KIBU85FV34DRR6A1JVV4KQNSO5AEMVJF66Q9ASUAAJG', 'x-amz-crc32': '2745614147'}, 'RetryAttempts': 0}}\n",
      "{'name': 'Timothy Tan', 'role': 'Member', 'cell_group': 'ONE', 'telegram_id': 'None', 'birth_date': '01-01-2000'}\n",
      "{'name': {'S': 'Timothy Tan'}, 'role': {'S': 'Member'}, 'cell_group': {'S': 'ONE'}, 'telegram_id': {'S': 'None'}, 'birth_date': {'S': '01-01-2000'}}\n",
      "UPLOADING ITEM\n",
      "{'ResponseMetadata': {'RequestId': 'VKOQ00NBM5U8C06S8R84PTAR83VV4KQNSO5AEMVJF66Q9ASUAAJG', 'HTTPStatusCode': 200, 'HTTPHeaders': {'server': 'Server', 'date': 'Thu, 08 Feb 2024 04:02:15 GMT', 'content-type': 'application/x-amz-json-1.0', 'content-length': '2', 'connection': 'keep-alive', 'x-amzn-requestid': 'VKOQ00NBM5U8C06S8R84PTAR83VV4KQNSO5AEMVJF66Q9ASUAAJG', 'x-amz-crc32': '2745614147'}, 'RetryAttempts': 0}}\n",
      "{'name': 'Chua Ting Wei', 'role': 'Member', 'cell_group': 'ONE', 'telegram_id': 'None', 'birth_date': '01-01-2000'}\n",
      "{'name': {'S': 'Chua Ting Wei'}, 'role': {'S': 'Member'}, 'cell_group': {'S': 'ONE'}, 'telegram_id': {'S': 'None'}, 'birth_date': {'S': '01-01-2000'}}\n",
      "UPLOADING ITEM\n",
      "{'ResponseMetadata': {'RequestId': 'FE27QRT8CS5PLHVHVR760PIFSRVV4KQNSO5AEMVJF66Q9ASUAAJG', 'HTTPStatusCode': 200, 'HTTPHeaders': {'server': 'Server', 'date': 'Thu, 08 Feb 2024 04:02:15 GMT', 'content-type': 'application/x-amz-json-1.0', 'content-length': '2', 'connection': 'keep-alive', 'x-amzn-requestid': 'FE27QRT8CS5PLHVHVR760PIFSRVV4KQNSO5AEMVJF66Q9ASUAAJG', 'x-amz-crc32': '2745614147'}, 'RetryAttempts': 0}}\n",
      "{'name': 'Eliot', 'role': 'Member', 'cell_group': 'ONE', 'telegram_id': 'None', 'birth_date': '01-01-2000'}\n",
      "{'name': {'S': 'Eliot'}, 'role': {'S': 'Member'}, 'cell_group': {'S': 'ONE'}, 'telegram_id': {'S': 'None'}, 'birth_date': {'S': '01-01-2000'}}\n",
      "UPLOADING ITEM\n",
      "{'ResponseMetadata': {'RequestId': 'G3TUJI5FRBTUNLI0BDHPS0HFA7VV4KQNSO5AEMVJF66Q9ASUAAJG', 'HTTPStatusCode': 200, 'HTTPHeaders': {'server': 'Server', 'date': 'Thu, 08 Feb 2024 04:02:15 GMT', 'content-type': 'application/x-amz-json-1.0', 'content-length': '2', 'connection': 'keep-alive', 'x-amzn-requestid': 'G3TUJI5FRBTUNLI0BDHPS0HFA7VV4KQNSO5AEMVJF66Q9ASUAAJG', 'x-amz-crc32': '2745614147'}, 'RetryAttempts': 0}}\n",
      "{'name': 'Matthew Wong', 'role': 'Member', 'cell_group': 'ONE', 'telegram_id': 'None', 'birth_date': '01-01-2000'}\n",
      "{'name': {'S': 'Matthew Wong'}, 'role': {'S': 'Member'}, 'cell_group': {'S': 'ONE'}, 'telegram_id': {'S': 'None'}, 'birth_date': {'S': '01-01-2000'}}\n",
      "UPLOADING ITEM\n",
      "{'ResponseMetadata': {'RequestId': 'JQQFMU3C09GF30647LUQKAM27NVV4KQNSO5AEMVJF66Q9ASUAAJG', 'HTTPStatusCode': 200, 'HTTPHeaders': {'server': 'Server', 'date': 'Thu, 08 Feb 2024 04:02:15 GMT', 'content-type': 'application/x-amz-json-1.0', 'content-length': '2', 'connection': 'keep-alive', 'x-amzn-requestid': 'JQQFMU3C09GF30647LUQKAM27NVV4KQNSO5AEMVJF66Q9ASUAAJG', 'x-amz-crc32': '2745614147'}, 'RetryAttempts': 0}}\n",
      "{'name': 'Jasariel Chee', 'role': 'Member', 'cell_group': 'ONE', 'telegram_id': 'None', 'birth_date': '01-01-2000'}\n",
      "{'name': {'S': 'Jasariel Chee'}, 'role': {'S': 'Member'}, 'cell_group': {'S': 'ONE'}, 'telegram_id': {'S': 'None'}, 'birth_date': {'S': '01-01-2000'}}\n",
      "UPLOADING ITEM\n",
      "{'ResponseMetadata': {'RequestId': '989RC1DAJBLEVIL46UPQBVPT13VV4KQNSO5AEMVJF66Q9ASUAAJG', 'HTTPStatusCode': 200, 'HTTPHeaders': {'server': 'Server', 'date': 'Thu, 08 Feb 2024 04:02:15 GMT', 'content-type': 'application/x-amz-json-1.0', 'content-length': '2', 'connection': 'keep-alive', 'x-amzn-requestid': '989RC1DAJBLEVIL46UPQBVPT13VV4KQNSO5AEMVJF66Q9ASUAAJG', 'x-amz-crc32': '2745614147'}, 'RetryAttempts': 0}}\n",
      "{'name': 'Aaron Chiang', 'role': 'Member', 'cell_group': 'ONE', 'telegram_id': 'None', 'birth_date': '01-01-2000'}\n",
      "{'name': {'S': 'Aaron Chiang'}, 'role': {'S': 'Member'}, 'cell_group': {'S': 'ONE'}, 'telegram_id': {'S': 'None'}, 'birth_date': {'S': '01-01-2000'}}\n",
      "UPLOADING ITEM\n",
      "{'ResponseMetadata': {'RequestId': 'OFRMUMSKH51JBS26905APF019VVV4KQNSO5AEMVJF66Q9ASUAAJG', 'HTTPStatusCode': 200, 'HTTPHeaders': {'server': 'Server', 'date': 'Thu, 08 Feb 2024 04:02:15 GMT', 'content-type': 'application/x-amz-json-1.0', 'content-length': '2', 'connection': 'keep-alive', 'x-amzn-requestid': 'OFRMUMSKH51JBS26905APF019VVV4KQNSO5AEMVJF66Q9ASUAAJG', 'x-amz-crc32': '2745614147'}, 'RetryAttempts': 0}}\n",
      "{'name': 'Matthew Wong', 'role': 'Member', 'cell_group': 'ONE', 'telegram_id': 'None', 'birth_date': '01-01-2000'}\n",
      "{'name': {'S': 'Matthew Wong'}, 'role': {'S': 'Member'}, 'cell_group': {'S': 'ONE'}, 'telegram_id': {'S': 'None'}, 'birth_date': {'S': '01-01-2000'}}\n",
      "UPLOADING ITEM\n",
      "{'ResponseMetadata': {'RequestId': 'NB70H8BTQBLT8NIT6PDB743RVBVV4KQNSO5AEMVJF66Q9ASUAAJG', 'HTTPStatusCode': 200, 'HTTPHeaders': {'server': 'Server', 'date': 'Thu, 08 Feb 2024 04:02:15 GMT', 'content-type': 'application/x-amz-json-1.0', 'content-length': '2', 'connection': 'keep-alive', 'x-amzn-requestid': 'NB70H8BTQBLT8NIT6PDB743RVBVV4KQNSO5AEMVJF66Q9ASUAAJG', 'x-amz-crc32': '2745614147'}, 'RetryAttempts': 0}}\n",
      "{'name': 'Michael Chua', 'role': 'Member', 'cell_group': 'ONE', 'telegram_id': 'None', 'birth_date': '01-01-2000'}\n",
      "{'name': {'S': 'Michael Chua'}, 'role': {'S': 'Member'}, 'cell_group': {'S': 'ONE'}, 'telegram_id': {'S': 'None'}, 'birth_date': {'S': '01-01-2000'}}\n",
      "UPLOADING ITEM\n",
      "{'ResponseMetadata': {'RequestId': 'H8ME60TEFMFRQLNEDLQTAEM51NVV4KQNSO5AEMVJF66Q9ASUAAJG', 'HTTPStatusCode': 200, 'HTTPHeaders': {'server': 'Server', 'date': 'Thu, 08 Feb 2024 04:02:15 GMT', 'content-type': 'application/x-amz-json-1.0', 'content-length': '2', 'connection': 'keep-alive', 'x-amzn-requestid': 'H8ME60TEFMFRQLNEDLQTAEM51NVV4KQNSO5AEMVJF66Q9ASUAAJG', 'x-amz-crc32': '2745614147'}, 'RetryAttempts': 0}}\n",
      "{'name': 'Nikita', 'role': 'Member', 'cell_group': 'ONE', 'telegram_id': 'None', 'birth_date': '01-01-2000'}\n",
      "{'name': {'S': 'Nikita'}, 'role': {'S': 'Member'}, 'cell_group': {'S': 'ONE'}, 'telegram_id': {'S': 'None'}, 'birth_date': {'S': '01-01-2000'}}\n",
      "UPLOADING ITEM\n",
      "{'ResponseMetadata': {'RequestId': 'MCFJ5BVIANAAR18C38IUPP2O8VVV4KQNSO5AEMVJF66Q9ASUAAJG', 'HTTPStatusCode': 200, 'HTTPHeaders': {'server': 'Server', 'date': 'Thu, 08 Feb 2024 04:02:15 GMT', 'content-type': 'application/x-amz-json-1.0', 'content-length': '2', 'connection': 'keep-alive', 'x-amzn-requestid': 'MCFJ5BVIANAAR18C38IUPP2O8VVV4KQNSO5AEMVJF66Q9ASUAAJG', 'x-amz-crc32': '2745614147'}, 'RetryAttempts': 0}}\n",
      "{'name': 'Nadya Vijay', 'role': 'Member', 'cell_group': 'ONE', 'telegram_id': 'None', 'birth_date': '01-01-2000'}\n",
      "{'name': {'S': 'Nadya Vijay'}, 'role': {'S': 'Member'}, 'cell_group': {'S': 'ONE'}, 'telegram_id': {'S': 'None'}, 'birth_date': {'S': '01-01-2000'}}\n",
      "UPLOADING ITEM\n",
      "{'ResponseMetadata': {'RequestId': '9SSTF1UE24I4VNORA7PHC3A7LBVV4KQNSO5AEMVJF66Q9ASUAAJG', 'HTTPStatusCode': 200, 'HTTPHeaders': {'server': 'Server', 'date': 'Thu, 08 Feb 2024 04:02:15 GMT', 'content-type': 'application/x-amz-json-1.0', 'content-length': '2', 'connection': 'keep-alive', 'x-amzn-requestid': '9SSTF1UE24I4VNORA7PHC3A7LBVV4KQNSO5AEMVJF66Q9ASUAAJG', 'x-amz-crc32': '2745614147'}, 'RetryAttempts': 0}}\n",
      "{'name': 'Jonathan Teo', 'role': 'Member', 'cell_group': 'ONE', 'telegram_id': 'None', 'birth_date': '01-01-2000'}\n",
      "{'name': {'S': 'Jonathan Teo'}, 'role': {'S': 'Member'}, 'cell_group': {'S': 'ONE'}, 'telegram_id': {'S': 'None'}, 'birth_date': {'S': '01-01-2000'}}\n",
      "UPLOADING ITEM\n",
      "{'ResponseMetadata': {'RequestId': 'AH13Q8FPDV2AEGFK2OFMKOU5FVVV4KQNSO5AEMVJF66Q9ASUAAJG', 'HTTPStatusCode': 200, 'HTTPHeaders': {'server': 'Server', 'date': 'Thu, 08 Feb 2024 04:02:15 GMT', 'content-type': 'application/x-amz-json-1.0', 'content-length': '2', 'connection': 'keep-alive', 'x-amzn-requestid': 'AH13Q8FPDV2AEGFK2OFMKOU5FVVV4KQNSO5AEMVJF66Q9ASUAAJG', 'x-amz-crc32': '2745614147'}, 'RetryAttempts': 0}}\n",
      "{'name': 'Matthias Chan', 'role': 'Member', 'cell_group': 'ONE', 'telegram_id': 'None', 'birth_date': '01-01-2000'}\n",
      "{'name': {'S': 'Matthias Chan'}, 'role': {'S': 'Member'}, 'cell_group': {'S': 'ONE'}, 'telegram_id': {'S': 'None'}, 'birth_date': {'S': '01-01-2000'}}\n",
      "UPLOADING ITEM\n",
      "{'ResponseMetadata': {'RequestId': '28QJ9ODHF56T5EKHAUK634KKIFVV4KQNSO5AEMVJF66Q9ASUAAJG', 'HTTPStatusCode': 200, 'HTTPHeaders': {'server': 'Server', 'date': 'Thu, 08 Feb 2024 04:02:15 GMT', 'content-type': 'application/x-amz-json-1.0', 'content-length': '2', 'connection': 'keep-alive', 'x-amzn-requestid': '28QJ9ODHF56T5EKHAUK634KKIFVV4KQNSO5AEMVJF66Q9ASUAAJG', 'x-amz-crc32': '2745614147'}, 'RetryAttempts': 0}}\n",
      "{'name': 'Joel Lau', 'role': 'Member', 'cell_group': 'ONE', 'telegram_id': 'None', 'birth_date': '01-01-2000'}\n",
      "{'name': {'S': 'Joel Lau'}, 'role': {'S': 'Member'}, 'cell_group': {'S': 'ONE'}, 'telegram_id': {'S': 'None'}, 'birth_date': {'S': '01-01-2000'}}\n",
      "UPLOADING ITEM\n",
      "{'ResponseMetadata': {'RequestId': '6CPNJOJ4OGA8A0CR7LBDNHFUGBVV4KQNSO5AEMVJF66Q9ASUAAJG', 'HTTPStatusCode': 200, 'HTTPHeaders': {'server': 'Server', 'date': 'Thu, 08 Feb 2024 04:02:15 GMT', 'content-type': 'application/x-amz-json-1.0', 'content-length': '2', 'connection': 'keep-alive', 'x-amzn-requestid': '6CPNJOJ4OGA8A0CR7LBDNHFUGBVV4KQNSO5AEMVJF66Q9ASUAAJG', 'x-amz-crc32': '2745614147'}, 'RetryAttempts': 0}}\n",
      "{'name': 'Sng Jia Jun', 'role': 'Member', 'cell_group': 'ONE', 'telegram_id': 'None', 'birth_date': '01-01-2000'}\n",
      "{'name': {'S': 'Sng Jia Jun'}, 'role': {'S': 'Member'}, 'cell_group': {'S': 'ONE'}, 'telegram_id': {'S': 'None'}, 'birth_date': {'S': '01-01-2000'}}\n",
      "UPLOADING ITEM\n",
      "{'ResponseMetadata': {'RequestId': 'KI2IRPNQPRLK28PP2E4PO0JO3BVV4KQNSO5AEMVJF66Q9ASUAAJG', 'HTTPStatusCode': 200, 'HTTPHeaders': {'server': 'Server', 'date': 'Thu, 08 Feb 2024 04:02:15 GMT', 'content-type': 'application/x-amz-json-1.0', 'content-length': '2', 'connection': 'keep-alive', 'x-amzn-requestid': 'KI2IRPNQPRLK28PP2E4PO0JO3BVV4KQNSO5AEMVJF66Q9ASUAAJG', 'x-amz-crc32': '2745614147'}, 'RetryAttempts': 0}}\n",
      "{'name': 'Lee Chen Ye', 'role': 'Member', 'cell_group': 'ONE', 'telegram_id': 'None', 'birth_date': '01-01-2000'}\n",
      "{'name': {'S': 'Lee Chen Ye'}, 'role': {'S': 'Member'}, 'cell_group': {'S': 'ONE'}, 'telegram_id': {'S': 'None'}, 'birth_date': {'S': '01-01-2000'}}\n",
      "UPLOADING ITEM\n",
      "{'ResponseMetadata': {'RequestId': 'J024D5NTEVBRNEOKIGGM2CAVJJVV4KQNSO5AEMVJF66Q9ASUAAJG', 'HTTPStatusCode': 200, 'HTTPHeaders': {'server': 'Server', 'date': 'Thu, 08 Feb 2024 04:02:15 GMT', 'content-type': 'application/x-amz-json-1.0', 'content-length': '2', 'connection': 'keep-alive', 'x-amzn-requestid': 'J024D5NTEVBRNEOKIGGM2CAVJJVV4KQNSO5AEMVJF66Q9ASUAAJG', 'x-amz-crc32': '2745614147'}, 'RetryAttempts': 0}}\n",
      "{'name': 'Bryan Yau', 'role': 'Member', 'cell_group': 'ONE', 'telegram_id': 'None', 'birth_date': '01-01-2000'}\n",
      "{'name': {'S': 'Bryan Yau'}, 'role': {'S': 'Member'}, 'cell_group': {'S': 'ONE'}, 'telegram_id': {'S': 'None'}, 'birth_date': {'S': '01-01-2000'}}\n",
      "UPLOADING ITEM\n",
      "{'ResponseMetadata': {'RequestId': 'J8SNUEPHR6GOMBHJMN8EQNSMD7VV4KQNSO5AEMVJF66Q9ASUAAJG', 'HTTPStatusCode': 200, 'HTTPHeaders': {'server': 'Server', 'date': 'Thu, 08 Feb 2024 04:02:15 GMT', 'content-type': 'application/x-amz-json-1.0', 'content-length': '2', 'connection': 'keep-alive', 'x-amzn-requestid': 'J8SNUEPHR6GOMBHJMN8EQNSMD7VV4KQNSO5AEMVJF66Q9ASUAAJG', 'x-amz-crc32': '2745614147'}, 'RetryAttempts': 0}}\n",
      "{'name': 'Wayne Lee', 'role': 'Member', 'cell_group': 'ONE', 'telegram_id': 'None', 'birth_date': '01-01-2000'}\n",
      "{'name': {'S': 'Wayne Lee'}, 'role': {'S': 'Member'}, 'cell_group': {'S': 'ONE'}, 'telegram_id': {'S': 'None'}, 'birth_date': {'S': '01-01-2000'}}\n",
      "UPLOADING ITEM\n",
      "{'ResponseMetadata': {'RequestId': 'HJ600VCJ07PKESOU2UN9MAIRM7VV4KQNSO5AEMVJF66Q9ASUAAJG', 'HTTPStatusCode': 200, 'HTTPHeaders': {'server': 'Server', 'date': 'Thu, 08 Feb 2024 04:02:15 GMT', 'content-type': 'application/x-amz-json-1.0', 'content-length': '2', 'connection': 'keep-alive', 'x-amzn-requestid': 'HJ600VCJ07PKESOU2UN9MAIRM7VV4KQNSO5AEMVJF66Q9ASUAAJG', 'x-amz-crc32': '2745614147'}, 'RetryAttempts': 0}}\n",
      "{'name': 'Matthias Chan', 'role': 'Leader', 'cell_group': 'Gilead', 'telegram_id': 'None', 'birth_date': '01-01-2000'}\n",
      "{'name': {'S': 'Matthias Chan'}, 'role': {'S': 'Leader'}, 'cell_group': {'S': 'Gilead'}, 'telegram_id': {'S': 'None'}, 'birth_date': {'S': '01-01-2000'}}\n",
      "UPLOADING ITEM\n",
      "{'ResponseMetadata': {'RequestId': 'UG5ABGMFQE78B4NKULJM16O0DVVV4KQNSO5AEMVJF66Q9ASUAAJG', 'HTTPStatusCode': 200, 'HTTPHeaders': {'server': 'Server', 'date': 'Thu, 08 Feb 2024 04:02:15 GMT', 'content-type': 'application/x-amz-json-1.0', 'content-length': '2', 'connection': 'keep-alive', 'x-amzn-requestid': 'UG5ABGMFQE78B4NKULJM16O0DVVV4KQNSO5AEMVJF66Q9ASUAAJG', 'x-amz-crc32': '2745614147'}, 'RetryAttempts': 0}}\n",
      "{'name': 'Ryan Wong', 'role': 'Leader', 'cell_group': 'Gilead', 'telegram_id': 'None', 'birth_date': '01-01-2000'}\n",
      "{'name': {'S': 'Ryan Wong'}, 'role': {'S': 'Leader'}, 'cell_group': {'S': 'Gilead'}, 'telegram_id': {'S': 'None'}, 'birth_date': {'S': '01-01-2000'}}\n",
      "UPLOADING ITEM\n",
      "{'ResponseMetadata': {'RequestId': '3MN4V1M9D3UV6Q1T9BTUV9FHGBVV4KQNSO5AEMVJF66Q9ASUAAJG', 'HTTPStatusCode': 200, 'HTTPHeaders': {'server': 'Server', 'date': 'Thu, 08 Feb 2024 04:02:15 GMT', 'content-type': 'application/x-amz-json-1.0', 'content-length': '2', 'connection': 'keep-alive', 'x-amzn-requestid': '3MN4V1M9D3UV6Q1T9BTUV9FHGBVV4KQNSO5AEMVJF66Q9ASUAAJG', 'x-amz-crc32': '2745614147'}, 'RetryAttempts': 0}}\n",
      "{'name': 'Shannah Das', 'role': 'Member', 'cell_group': 'Gilead', 'telegram_id': 'None', 'birth_date': '01-01-2000'}\n",
      "{'name': {'S': 'Shannah Das'}, 'role': {'S': 'Member'}, 'cell_group': {'S': 'Gilead'}, 'telegram_id': {'S': 'None'}, 'birth_date': {'S': '01-01-2000'}}\n",
      "UPLOADING ITEM\n",
      "{'ResponseMetadata': {'RequestId': 'R97O88UM2FUM9US0QGK34DP2J7VV4KQNSO5AEMVJF66Q9ASUAAJG', 'HTTPStatusCode': 200, 'HTTPHeaders': {'server': 'Server', 'date': 'Thu, 08 Feb 2024 04:02:15 GMT', 'content-type': 'application/x-amz-json-1.0', 'content-length': '2', 'connection': 'keep-alive', 'x-amzn-requestid': 'R97O88UM2FUM9US0QGK34DP2J7VV4KQNSO5AEMVJF66Q9ASUAAJG', 'x-amz-crc32': '2745614147'}, 'RetryAttempts': 0}}\n",
      "{'name': 'Joshua Teo', 'role': 'Member', 'cell_group': 'Gilead', 'telegram_id': 'None', 'birth_date': '01-01-2000'}\n",
      "{'name': {'S': 'Joshua Teo'}, 'role': {'S': 'Member'}, 'cell_group': {'S': 'Gilead'}, 'telegram_id': {'S': 'None'}, 'birth_date': {'S': '01-01-2000'}}\n",
      "UPLOADING ITEM\n",
      "{'ResponseMetadata': {'RequestId': 'QVMKVKA55UJH1G8N4D4BVP0T5JVV4KQNSO5AEMVJF66Q9ASUAAJG', 'HTTPStatusCode': 200, 'HTTPHeaders': {'server': 'Server', 'date': 'Thu, 08 Feb 2024 04:02:15 GMT', 'content-type': 'application/x-amz-json-1.0', 'content-length': '2', 'connection': 'keep-alive', 'x-amzn-requestid': 'QVMKVKA55UJH1G8N4D4BVP0T5JVV4KQNSO5AEMVJF66Q9ASUAAJG', 'x-amz-crc32': '2745614147'}, 'RetryAttempts': 0}}\n",
      "{'name': 'Pierson Png', 'role': 'Member', 'cell_group': 'Gilead', 'telegram_id': 'None', 'birth_date': '01-01-2000'}\n",
      "{'name': {'S': 'Pierson Png'}, 'role': {'S': 'Member'}, 'cell_group': {'S': 'Gilead'}, 'telegram_id': {'S': 'None'}, 'birth_date': {'S': '01-01-2000'}}\n",
      "UPLOADING ITEM\n",
      "{'ResponseMetadata': {'RequestId': '0N2JN6MMAQT52ESE8LG0NB2CJ7VV4KQNSO5AEMVJF66Q9ASUAAJG', 'HTTPStatusCode': 200, 'HTTPHeaders': {'server': 'Server', 'date': 'Thu, 08 Feb 2024 04:02:15 GMT', 'content-type': 'application/x-amz-json-1.0', 'content-length': '2', 'connection': 'keep-alive', 'x-amzn-requestid': '0N2JN6MMAQT52ESE8LG0NB2CJ7VV4KQNSO5AEMVJF66Q9ASUAAJG', 'x-amz-crc32': '2745614147'}, 'RetryAttempts': 0}}\n",
      "{'name': 'Kayden Lim', 'role': 'Member', 'cell_group': 'Gilead', 'telegram_id': 'None', 'birth_date': '01-01-2000'}\n",
      "{'name': {'S': 'Kayden Lim'}, 'role': {'S': 'Member'}, 'cell_group': {'S': 'Gilead'}, 'telegram_id': {'S': 'None'}, 'birth_date': {'S': '01-01-2000'}}\n",
      "UPLOADING ITEM\n",
      "{'ResponseMetadata': {'RequestId': 'U1LIVFKONV1A0TL7VNHGG6CRNRVV4KQNSO5AEMVJF66Q9ASUAAJG', 'HTTPStatusCode': 200, 'HTTPHeaders': {'server': 'Server', 'date': 'Thu, 08 Feb 2024 04:02:15 GMT', 'content-type': 'application/x-amz-json-1.0', 'content-length': '2', 'connection': 'keep-alive', 'x-amzn-requestid': 'U1LIVFKONV1A0TL7VNHGG6CRNRVV4KQNSO5AEMVJF66Q9ASUAAJG', 'x-amz-crc32': '2745614147'}, 'RetryAttempts': 0}}\n",
      "{'name': 'Asher Tay', 'role': 'Leader', 'cell_group': 'Kadesh', 'telegram_id': 'None', 'birth_date': '01-01-2000'}\n",
      "{'name': {'S': 'Asher Tay'}, 'role': {'S': 'Leader'}, 'cell_group': {'S': 'Kadesh'}, 'telegram_id': {'S': 'None'}, 'birth_date': {'S': '01-01-2000'}}\n",
      "UPLOADING ITEM\n",
      "{'ResponseMetadata': {'RequestId': 'FS666KPD7C2SVDD7IQ61262R5JVV4KQNSO5AEMVJF66Q9ASUAAJG', 'HTTPStatusCode': 200, 'HTTPHeaders': {'server': 'Server', 'date': 'Thu, 08 Feb 2024 04:02:15 GMT', 'content-type': 'application/x-amz-json-1.0', 'content-length': '2', 'connection': 'keep-alive', 'x-amzn-requestid': 'FS666KPD7C2SVDD7IQ61262R5JVV4KQNSO5AEMVJF66Q9ASUAAJG', 'x-amz-crc32': '2745614147'}, 'RetryAttempts': 0}}\n",
      "{'name': 'Joel Lau', 'role': 'Leader', 'cell_group': 'Kadesh', 'telegram_id': 'None', 'birth_date': '01-01-2000'}\n",
      "{'name': {'S': 'Joel Lau'}, 'role': {'S': 'Leader'}, 'cell_group': {'S': 'Kadesh'}, 'telegram_id': {'S': 'None'}, 'birth_date': {'S': '01-01-2000'}}\n",
      "UPLOADING ITEM\n",
      "{'ResponseMetadata': {'RequestId': 'KMPJ7TK1MUCQPRL6A6LNCVN2GFVV4KQNSO5AEMVJF66Q9ASUAAJG', 'HTTPStatusCode': 200, 'HTTPHeaders': {'server': 'Server', 'date': 'Thu, 08 Feb 2024 04:02:15 GMT', 'content-type': 'application/x-amz-json-1.0', 'content-length': '2', 'connection': 'keep-alive', 'x-amzn-requestid': 'KMPJ7TK1MUCQPRL6A6LNCVN2GFVV4KQNSO5AEMVJF66Q9ASUAAJG', 'x-amz-crc32': '2745614147'}, 'RetryAttempts': 0}}\n",
      "{'name': 'Faith Tan', 'role': 'Leader', 'cell_group': 'Kadesh', 'telegram_id': 'None', 'birth_date': '01-01-2000'}\n",
      "{'name': {'S': 'Faith Tan'}, 'role': {'S': 'Leader'}, 'cell_group': {'S': 'Kadesh'}, 'telegram_id': {'S': 'None'}, 'birth_date': {'S': '01-01-2000'}}\n",
      "UPLOADING ITEM\n",
      "{'ResponseMetadata': {'RequestId': '2JGFQ1G8400H7UKEQEA7SU2NF3VV4KQNSO5AEMVJF66Q9ASUAAJG', 'HTTPStatusCode': 200, 'HTTPHeaders': {'server': 'Server', 'date': 'Thu, 08 Feb 2024 04:02:15 GMT', 'content-type': 'application/x-amz-json-1.0', 'content-length': '2', 'connection': 'keep-alive', 'x-amzn-requestid': '2JGFQ1G8400H7UKEQEA7SU2NF3VV4KQNSO5AEMVJF66Q9ASUAAJG', 'x-amz-crc32': '2745614147'}, 'RetryAttempts': 0}}\n",
      "{'name': 'Charlene Ong', 'role': 'Member', 'cell_group': 'Kadesh', 'telegram_id': 'None', 'birth_date': '01-01-2000'}\n",
      "{'name': {'S': 'Charlene Ong'}, 'role': {'S': 'Member'}, 'cell_group': {'S': 'Kadesh'}, 'telegram_id': {'S': 'None'}, 'birth_date': {'S': '01-01-2000'}}\n",
      "UPLOADING ITEM\n",
      "{'ResponseMetadata': {'RequestId': '00036RIOKO0L4SQE43RGRV9LSVVV4KQNSO5AEMVJF66Q9ASUAAJG', 'HTTPStatusCode': 200, 'HTTPHeaders': {'server': 'Server', 'date': 'Thu, 08 Feb 2024 04:02:15 GMT', 'content-type': 'application/x-amz-json-1.0', 'content-length': '2', 'connection': 'keep-alive', 'x-amzn-requestid': '00036RIOKO0L4SQE43RGRV9LSVVV4KQNSO5AEMVJF66Q9ASUAAJG', 'x-amz-crc32': '2745614147'}, 'RetryAttempts': 0}}\n",
      "{'name': 'Caitlin Tan', 'role': 'Member', 'cell_group': 'Kadesh', 'telegram_id': 'None', 'birth_date': '01-01-2000'}\n",
      "{'name': {'S': 'Caitlin Tan'}, 'role': {'S': 'Member'}, 'cell_group': {'S': 'Kadesh'}, 'telegram_id': {'S': 'None'}, 'birth_date': {'S': '01-01-2000'}}\n",
      "UPLOADING ITEM\n",
      "{'ResponseMetadata': {'RequestId': 'FHA7L0IGA0O69GRTUKD5MIU3IBVV4KQNSO5AEMVJF66Q9ASUAAJG', 'HTTPStatusCode': 200, 'HTTPHeaders': {'server': 'Server', 'date': 'Thu, 08 Feb 2024 04:02:15 GMT', 'content-type': 'application/x-amz-json-1.0', 'content-length': '2', 'connection': 'keep-alive', 'x-amzn-requestid': 'FHA7L0IGA0O69GRTUKD5MIU3IBVV4KQNSO5AEMVJF66Q9ASUAAJG', 'x-amz-crc32': '2745614147'}, 'RetryAttempts': 0}}\n",
      "{'name': 'Ian Lam', 'role': 'Member', 'cell_group': 'Kadesh', 'telegram_id': 'None', 'birth_date': '01-01-2000'}\n",
      "{'name': {'S': 'Ian Lam'}, 'role': {'S': 'Member'}, 'cell_group': {'S': 'Kadesh'}, 'telegram_id': {'S': 'None'}, 'birth_date': {'S': '01-01-2000'}}\n",
      "UPLOADING ITEM\n",
      "{'ResponseMetadata': {'RequestId': '5LN9O9KRTHV0RD1AGJCGLA8DFVVV4KQNSO5AEMVJF66Q9ASUAAJG', 'HTTPStatusCode': 200, 'HTTPHeaders': {'server': 'Server', 'date': 'Thu, 08 Feb 2024 04:02:15 GMT', 'content-type': 'application/x-amz-json-1.0', 'content-length': '2', 'connection': 'keep-alive', 'x-amzn-requestid': '5LN9O9KRTHV0RD1AGJCGLA8DFVVV4KQNSO5AEMVJF66Q9ASUAAJG', 'x-amz-crc32': '2745614147'}, 'RetryAttempts': 0}}\n",
      "{'name': 'Jayden Yoshimura', 'role': 'Member', 'cell_group': 'Kadesh', 'telegram_id': 'None', 'birth_date': '01-01-2000'}\n",
      "{'name': {'S': 'Jayden Yoshimura'}, 'role': {'S': 'Member'}, 'cell_group': {'S': 'Kadesh'}, 'telegram_id': {'S': 'None'}, 'birth_date': {'S': '01-01-2000'}}\n",
      "UPLOADING ITEM\n",
      "{'ResponseMetadata': {'RequestId': 'P1S0AV8A7N83L8VT1G0S0N63AVVV4KQNSO5AEMVJF66Q9ASUAAJG', 'HTTPStatusCode': 200, 'HTTPHeaders': {'server': 'Server', 'date': 'Thu, 08 Feb 2024 04:02:15 GMT', 'content-type': 'application/x-amz-json-1.0', 'content-length': '2', 'connection': 'keep-alive', 'x-amzn-requestid': 'P1S0AV8A7N83L8VT1G0S0N63AVVV4KQNSO5AEMVJF66Q9ASUAAJG', 'x-amz-crc32': '2745614147'}, 'RetryAttempts': 0}}\n",
      "{'name': 'Jolene Tan', 'role': 'Member', 'cell_group': 'Kadesh', 'telegram_id': 'None', 'birth_date': '01-01-2000'}\n",
      "{'name': {'S': 'Jolene Tan'}, 'role': {'S': 'Member'}, 'cell_group': {'S': 'Kadesh'}, 'telegram_id': {'S': 'None'}, 'birth_date': {'S': '01-01-2000'}}\n",
      "UPLOADING ITEM\n",
      "{'ResponseMetadata': {'RequestId': 'VTPHN5664OH7HBNPK1MMP8K5R3VV4KQNSO5AEMVJF66Q9ASUAAJG', 'HTTPStatusCode': 200, 'HTTPHeaders': {'server': 'Server', 'date': 'Thu, 08 Feb 2024 04:02:15 GMT', 'content-type': 'application/x-amz-json-1.0', 'content-length': '2', 'connection': 'keep-alive', 'x-amzn-requestid': 'VTPHN5664OH7HBNPK1MMP8K5R3VV4KQNSO5AEMVJF66Q9ASUAAJG', 'x-amz-crc32': '2745614147'}, 'RetryAttempts': 0}}\n",
      "{'name': 'Joette Tan', 'role': 'Member', 'cell_group': 'Kadesh', 'telegram_id': 'None', 'birth_date': '01-01-2000'}\n",
      "{'name': {'S': 'Joette Tan'}, 'role': {'S': 'Member'}, 'cell_group': {'S': 'Kadesh'}, 'telegram_id': {'S': 'None'}, 'birth_date': {'S': '01-01-2000'}}\n",
      "UPLOADING ITEM\n",
      "{'ResponseMetadata': {'RequestId': '71Q0KGA1F3KV9JSDINUHHRGKGRVV4KQNSO5AEMVJF66Q9ASUAAJG', 'HTTPStatusCode': 200, 'HTTPHeaders': {'server': 'Server', 'date': 'Thu, 08 Feb 2024 04:02:15 GMT', 'content-type': 'application/x-amz-json-1.0', 'content-length': '2', 'connection': 'keep-alive', 'x-amzn-requestid': '71Q0KGA1F3KV9JSDINUHHRGKGRVV4KQNSO5AEMVJF66Q9ASUAAJG', 'x-amz-crc32': '2745614147'}, 'RetryAttempts': 0}}\n",
      "{'name': 'Joanne Tan', 'role': 'Member', 'cell_group': 'Kadesh', 'telegram_id': 'None', 'birth_date': '01-01-2000'}\n",
      "{'name': {'S': 'Joanne Tan'}, 'role': {'S': 'Member'}, 'cell_group': {'S': 'Kadesh'}, 'telegram_id': {'S': 'None'}, 'birth_date': {'S': '01-01-2000'}}\n",
      "UPLOADING ITEM\n",
      "{'ResponseMetadata': {'RequestId': 'D3APVUVGM5P4QFHI7JQPOKVHGFVV4KQNSO5AEMVJF66Q9ASUAAJG', 'HTTPStatusCode': 200, 'HTTPHeaders': {'server': 'Server', 'date': 'Thu, 08 Feb 2024 04:02:15 GMT', 'content-type': 'application/x-amz-json-1.0', 'content-length': '2', 'connection': 'keep-alive', 'x-amzn-requestid': 'D3APVUVGM5P4QFHI7JQPOKVHGFVV4KQNSO5AEMVJF66Q9ASUAAJG', 'x-amz-crc32': '2745614147'}, 'RetryAttempts': 0}}\n",
      "{'name': 'Amanda Loh', 'role': 'Member', 'cell_group': 'Kadesh', 'telegram_id': 'None', 'birth_date': '01-01-2000'}\n",
      "{'name': {'S': 'Amanda Loh'}, 'role': {'S': 'Member'}, 'cell_group': {'S': 'Kadesh'}, 'telegram_id': {'S': 'None'}, 'birth_date': {'S': '01-01-2000'}}\n",
      "UPLOADING ITEM\n",
      "{'ResponseMetadata': {'RequestId': 'PD2FLVOJ858UMU44MD8624KPFFVV4KQNSO5AEMVJF66Q9ASUAAJG', 'HTTPStatusCode': 200, 'HTTPHeaders': {'server': 'Server', 'date': 'Thu, 08 Feb 2024 04:02:15 GMT', 'content-type': 'application/x-amz-json-1.0', 'content-length': '2', 'connection': 'keep-alive', 'x-amzn-requestid': 'PD2FLVOJ858UMU44MD8624KPFFVV4KQNSO5AEMVJF66Q9ASUAAJG', 'x-amz-crc32': '2745614147'}, 'RetryAttempts': 0}}\n",
      "{'name': 'Jonah Ng', 'role': 'Member', 'cell_group': 'Kadesh', 'telegram_id': 'None', 'birth_date': '01-01-2000'}\n",
      "{'name': {'S': 'Jonah Ng'}, 'role': {'S': 'Member'}, 'cell_group': {'S': 'Kadesh'}, 'telegram_id': {'S': 'None'}, 'birth_date': {'S': '01-01-2000'}}\n",
      "UPLOADING ITEM\n",
      "{'ResponseMetadata': {'RequestId': '6MEGNQ8SHPPI1RGGOOPB5CAC0FVV4KQNSO5AEMVJF66Q9ASUAAJG', 'HTTPStatusCode': 200, 'HTTPHeaders': {'server': 'Server', 'date': 'Thu, 08 Feb 2024 04:02:15 GMT', 'content-type': 'application/x-amz-json-1.0', 'content-length': '2', 'connection': 'keep-alive', 'x-amzn-requestid': '6MEGNQ8SHPPI1RGGOOPB5CAC0FVV4KQNSO5AEMVJF66Q9ASUAAJG', 'x-amz-crc32': '2745614147'}, 'RetryAttempts': 0}}\n",
      "{'name': 'Ryder Wong', 'role': 'Member', 'cell_group': 'Kadesh', 'telegram_id': 'None', 'birth_date': '01-01-2000'}\n",
      "{'name': {'S': 'Ryder Wong'}, 'role': {'S': 'Member'}, 'cell_group': {'S': 'Kadesh'}, 'telegram_id': {'S': 'None'}, 'birth_date': {'S': '01-01-2000'}}\n",
      "UPLOADING ITEM\n",
      "{'ResponseMetadata': {'RequestId': 'GQKDHSLBUSK2GNDAOOKFMO7B3RVV4KQNSO5AEMVJF66Q9ASUAAJG', 'HTTPStatusCode': 200, 'HTTPHeaders': {'server': 'Server', 'date': 'Thu, 08 Feb 2024 04:02:15 GMT', 'content-type': 'application/x-amz-json-1.0', 'content-length': '2', 'connection': 'keep-alive', 'x-amzn-requestid': 'GQKDHSLBUSK2GNDAOOKFMO7B3RVV4KQNSO5AEMVJF66Q9ASUAAJG', 'x-amz-crc32': '2745614147'}, 'RetryAttempts': 0}}\n",
      "{'name': 'Claryl Ang', 'role': 'Leader', 'cell_group': 'Bouquet', 'telegram_id': 'None', 'birth_date': '01-01-2000'}\n",
      "{'name': {'S': 'Claryl Ang'}, 'role': {'S': 'Leader'}, 'cell_group': {'S': 'Bouquet'}, 'telegram_id': {'S': 'None'}, 'birth_date': {'S': '01-01-2000'}}\n",
      "UPLOADING ITEM\n",
      "{'ResponseMetadata': {'RequestId': 'NCD10JRJN0474B93JIGEVB5KIJVV4KQNSO5AEMVJF66Q9ASUAAJG', 'HTTPStatusCode': 200, 'HTTPHeaders': {'server': 'Server', 'date': 'Thu, 08 Feb 2024 04:02:15 GMT', 'content-type': 'application/x-amz-json-1.0', 'content-length': '2', 'connection': 'keep-alive', 'x-amzn-requestid': 'NCD10JRJN0474B93JIGEVB5KIJVV4KQNSO5AEMVJF66Q9ASUAAJG', 'x-amz-crc32': '2745614147'}, 'RetryAttempts': 0}}\n",
      "{'name': 'Teo Jia En', 'role': 'Leader', 'cell_group': 'Bouquet', 'telegram_id': 'None', 'birth_date': '01-01-2000'}\n",
      "{'name': {'S': 'Teo Jia En'}, 'role': {'S': 'Leader'}, 'cell_group': {'S': 'Bouquet'}, 'telegram_id': {'S': 'None'}, 'birth_date': {'S': '01-01-2000'}}\n",
      "UPLOADING ITEM\n",
      "{'ResponseMetadata': {'RequestId': 'HI1FE1D9JMM7QD1L7SRU53SG53VV4KQNSO5AEMVJF66Q9ASUAAJG', 'HTTPStatusCode': 200, 'HTTPHeaders': {'server': 'Server', 'date': 'Thu, 08 Feb 2024 04:02:15 GMT', 'content-type': 'application/x-amz-json-1.0', 'content-length': '2', 'connection': 'keep-alive', 'x-amzn-requestid': 'HI1FE1D9JMM7QD1L7SRU53SG53VV4KQNSO5AEMVJF66Q9ASUAAJG', 'x-amz-crc32': '2745614147'}, 'RetryAttempts': 0}}\n",
      "{'name': 'Yap Jun Hong', 'role': 'Leader', 'cell_group': 'Bouquet', 'telegram_id': 'None', 'birth_date': '01-01-2000'}\n",
      "{'name': {'S': 'Yap Jun Hong'}, 'role': {'S': 'Leader'}, 'cell_group': {'S': 'Bouquet'}, 'telegram_id': {'S': 'None'}, 'birth_date': {'S': '01-01-2000'}}\n",
      "UPLOADING ITEM\n",
      "{'ResponseMetadata': {'RequestId': '8JK6AOU808KFQIG32V67CKUFERVV4KQNSO5AEMVJF66Q9ASUAAJG', 'HTTPStatusCode': 200, 'HTTPHeaders': {'server': 'Server', 'date': 'Thu, 08 Feb 2024 04:02:15 GMT', 'content-type': 'application/x-amz-json-1.0', 'content-length': '2', 'connection': 'keep-alive', 'x-amzn-requestid': '8JK6AOU808KFQIG32V67CKUFERVV4KQNSO5AEMVJF66Q9ASUAAJG', 'x-amz-crc32': '2745614147'}, 'RetryAttempts': 0}}\n",
      "{'name': 'Andrew Chen', 'role': 'Member', 'cell_group': 'Bouquet', 'telegram_id': 'None', 'birth_date': '01-01-2000'}\n",
      "{'name': {'S': 'Andrew Chen'}, 'role': {'S': 'Member'}, 'cell_group': {'S': 'Bouquet'}, 'telegram_id': {'S': 'None'}, 'birth_date': {'S': '01-01-2000'}}\n",
      "UPLOADING ITEM\n",
      "{'ResponseMetadata': {'RequestId': '00JNRTIJHENV0GRC02L7KFOH5NVV4KQNSO5AEMVJF66Q9ASUAAJG', 'HTTPStatusCode': 200, 'HTTPHeaders': {'server': 'Server', 'date': 'Thu, 08 Feb 2024 04:02:15 GMT', 'content-type': 'application/x-amz-json-1.0', 'content-length': '2', 'connection': 'keep-alive', 'x-amzn-requestid': '00JNRTIJHENV0GRC02L7KFOH5NVV4KQNSO5AEMVJF66Q9ASUAAJG', 'x-amz-crc32': '2745614147'}, 'RetryAttempts': 0}}\n",
      "{'name': 'Ade-Lyn Tay', 'role': 'Member', 'cell_group': 'Bouquet', 'telegram_id': 'None', 'birth_date': '01-01-2000'}\n",
      "{'name': {'S': 'Ade-Lyn Tay'}, 'role': {'S': 'Member'}, 'cell_group': {'S': 'Bouquet'}, 'telegram_id': {'S': 'None'}, 'birth_date': {'S': '01-01-2000'}}\n",
      "UPLOADING ITEM\n",
      "{'ResponseMetadata': {'RequestId': 'ES472F6A0O2SILUJCM31I2JP9RVV4KQNSO5AEMVJF66Q9ASUAAJG', 'HTTPStatusCode': 200, 'HTTPHeaders': {'server': 'Server', 'date': 'Thu, 08 Feb 2024 04:02:15 GMT', 'content-type': 'application/x-amz-json-1.0', 'content-length': '2', 'connection': 'keep-alive', 'x-amzn-requestid': 'ES472F6A0O2SILUJCM31I2JP9RVV4KQNSO5AEMVJF66Q9ASUAAJG', 'x-amz-crc32': '2745614147'}, 'RetryAttempts': 0}}\n",
      "{'name': 'Asher Tay', 'role': 'Member', 'cell_group': 'Bouquet', 'telegram_id': 'None', 'birth_date': '01-01-2000'}\n",
      "{'name': {'S': 'Asher Tay'}, 'role': {'S': 'Member'}, 'cell_group': {'S': 'Bouquet'}, 'telegram_id': {'S': 'None'}, 'birth_date': {'S': '01-01-2000'}}\n",
      "UPLOADING ITEM\n",
      "{'ResponseMetadata': {'RequestId': '0QI7TRA1EGHD43P646O3I4LFD3VV4KQNSO5AEMVJF66Q9ASUAAJG', 'HTTPStatusCode': 200, 'HTTPHeaders': {'server': 'Server', 'date': 'Thu, 08 Feb 2024 04:02:22 GMT', 'content-type': 'application/x-amz-json-1.0', 'content-length': '2', 'connection': 'keep-alive', 'x-amzn-requestid': '0QI7TRA1EGHD43P646O3I4LFD3VV4KQNSO5AEMVJF66Q9ASUAAJG', 'x-amz-crc32': '2745614147'}, 'RetryAttempts': 7}}\n",
      "{'name': 'Chelsea Teo', 'role': 'Member', 'cell_group': 'Bouquet', 'telegram_id': 'None', 'birth_date': '01-01-2000'}\n",
      "{'name': {'S': 'Chelsea Teo'}, 'role': {'S': 'Member'}, 'cell_group': {'S': 'Bouquet'}, 'telegram_id': {'S': 'None'}, 'birth_date': {'S': '01-01-2000'}}\n",
      "UPLOADING ITEM\n",
      "{'ResponseMetadata': {'RequestId': '9HSCQVE11GAFV7GAVHUANAT0KFVV4KQNSO5AEMVJF66Q9ASUAAJG', 'HTTPStatusCode': 200, 'HTTPHeaders': {'server': 'Server', 'date': 'Thu, 08 Feb 2024 04:02:22 GMT', 'content-type': 'application/x-amz-json-1.0', 'content-length': '2', 'connection': 'keep-alive', 'x-amzn-requestid': '9HSCQVE11GAFV7GAVHUANAT0KFVV4KQNSO5AEMVJF66Q9ASUAAJG', 'x-amz-crc32': '2745614147'}, 'RetryAttempts': 0}}\n",
      "{'name': 'Chloe Low', 'role': 'Member', 'cell_group': 'Bouquet', 'telegram_id': 'None', 'birth_date': '01-01-2000'}\n",
      "{'name': {'S': 'Chloe Low'}, 'role': {'S': 'Member'}, 'cell_group': {'S': 'Bouquet'}, 'telegram_id': {'S': 'None'}, 'birth_date': {'S': '01-01-2000'}}\n",
      "UPLOADING ITEM\n",
      "{'ResponseMetadata': {'RequestId': '8R6F3QDDIPA7MV6M924N413PDBVV4KQNSO5AEMVJF66Q9ASUAAJG', 'HTTPStatusCode': 200, 'HTTPHeaders': {'server': 'Server', 'date': 'Thu, 08 Feb 2024 04:02:22 GMT', 'content-type': 'application/x-amz-json-1.0', 'content-length': '2', 'connection': 'keep-alive', 'x-amzn-requestid': '8R6F3QDDIPA7MV6M924N413PDBVV4KQNSO5AEMVJF66Q9ASUAAJG', 'x-amz-crc32': '2745614147'}, 'RetryAttempts': 0}}\n",
      "{'name': 'Emily Ng', 'role': 'Member', 'cell_group': 'Bouquet', 'telegram_id': 'None', 'birth_date': '01-01-2000'}\n",
      "{'name': {'S': 'Emily Ng'}, 'role': {'S': 'Member'}, 'cell_group': {'S': 'Bouquet'}, 'telegram_id': {'S': 'None'}, 'birth_date': {'S': '01-01-2000'}}\n",
      "UPLOADING ITEM\n",
      "{'ResponseMetadata': {'RequestId': 'CAUHT1L6OH7PE6TCKUL5TPSH5RVV4KQNSO5AEMVJF66Q9ASUAAJG', 'HTTPStatusCode': 200, 'HTTPHeaders': {'server': 'Server', 'date': 'Thu, 08 Feb 2024 04:02:22 GMT', 'content-type': 'application/x-amz-json-1.0', 'content-length': '2', 'connection': 'keep-alive', 'x-amzn-requestid': 'CAUHT1L6OH7PE6TCKUL5TPSH5RVV4KQNSO5AEMVJF66Q9ASUAAJG', 'x-amz-crc32': '2745614147'}, 'RetryAttempts': 0}}\n",
      "{'name': 'Glenda', 'role': 'Member', 'cell_group': 'Bouquet', 'telegram_id': 'None', 'birth_date': '01-01-2000'}\n",
      "{'name': {'S': 'Glenda'}, 'role': {'S': 'Member'}, 'cell_group': {'S': 'Bouquet'}, 'telegram_id': {'S': 'None'}, 'birth_date': {'S': '01-01-2000'}}\n",
      "UPLOADING ITEM\n",
      "{'ResponseMetadata': {'RequestId': 'DUAP4NG2OODCCJU42KAHG5FMBNVV4KQNSO5AEMVJF66Q9ASUAAJG', 'HTTPStatusCode': 200, 'HTTPHeaders': {'server': 'Server', 'date': 'Thu, 08 Feb 2024 04:02:22 GMT', 'content-type': 'application/x-amz-json-1.0', 'content-length': '2', 'connection': 'keep-alive', 'x-amzn-requestid': 'DUAP4NG2OODCCJU42KAHG5FMBNVV4KQNSO5AEMVJF66Q9ASUAAJG', 'x-amz-crc32': '2745614147'}, 'RetryAttempts': 0}}\n",
      "{'name': 'Janice', 'role': 'Member', 'cell_group': 'Bouquet', 'telegram_id': 'None', 'birth_date': '01-01-2000'}\n",
      "{'name': {'S': 'Janice'}, 'role': {'S': 'Member'}, 'cell_group': {'S': 'Bouquet'}, 'telegram_id': {'S': 'None'}, 'birth_date': {'S': '01-01-2000'}}\n",
      "UPLOADING ITEM\n",
      "{'ResponseMetadata': {'RequestId': '9A006PT21O260VNSMGOUUA4H1VVV4KQNSO5AEMVJF66Q9ASUAAJG', 'HTTPStatusCode': 200, 'HTTPHeaders': {'server': 'Server', 'date': 'Thu, 08 Feb 2024 04:02:22 GMT', 'content-type': 'application/x-amz-json-1.0', 'content-length': '2', 'connection': 'keep-alive', 'x-amzn-requestid': '9A006PT21O260VNSMGOUUA4H1VVV4KQNSO5AEMVJF66Q9ASUAAJG', 'x-amz-crc32': '2745614147'}, 'RetryAttempts': 0}}\n",
      "{'name': 'Jie Wei', 'role': 'Member', 'cell_group': 'Bouquet', 'telegram_id': 'None', 'birth_date': '01-01-2000'}\n",
      "{'name': {'S': 'Jie Wei'}, 'role': {'S': 'Member'}, 'cell_group': {'S': 'Bouquet'}, 'telegram_id': {'S': 'None'}, 'birth_date': {'S': '01-01-2000'}}\n",
      "UPLOADING ITEM\n",
      "{'ResponseMetadata': {'RequestId': 'UROCMDPRQIAIVAFTIC7HPCTLR3VV4KQNSO5AEMVJF66Q9ASUAAJG', 'HTTPStatusCode': 200, 'HTTPHeaders': {'server': 'Server', 'date': 'Thu, 08 Feb 2024 04:02:22 GMT', 'content-type': 'application/x-amz-json-1.0', 'content-length': '2', 'connection': 'keep-alive', 'x-amzn-requestid': 'UROCMDPRQIAIVAFTIC7HPCTLR3VV4KQNSO5AEMVJF66Q9ASUAAJG', 'x-amz-crc32': '2745614147'}, 'RetryAttempts': 0}}\n",
      "{'name': 'Kelly Wong', 'role': 'Member', 'cell_group': 'Bouquet', 'telegram_id': 'None', 'birth_date': '01-01-2000'}\n",
      "{'name': {'S': 'Kelly Wong'}, 'role': {'S': 'Member'}, 'cell_group': {'S': 'Bouquet'}, 'telegram_id': {'S': 'None'}, 'birth_date': {'S': '01-01-2000'}}\n",
      "UPLOADING ITEM\n",
      "{'ResponseMetadata': {'RequestId': 'GN090ATJ99E46EDTTE7GQMH1AFVV4KQNSO5AEMVJF66Q9ASUAAJG', 'HTTPStatusCode': 200, 'HTTPHeaders': {'server': 'Server', 'date': 'Thu, 08 Feb 2024 04:02:22 GMT', 'content-type': 'application/x-amz-json-1.0', 'content-length': '2', 'connection': 'keep-alive', 'x-amzn-requestid': 'GN090ATJ99E46EDTTE7GQMH1AFVV4KQNSO5AEMVJF66Q9ASUAAJG', 'x-amz-crc32': '2745614147'}, 'RetryAttempts': 0}}\n",
      "{'name': 'Luke Wong', 'role': 'Member', 'cell_group': 'Bouquet', 'telegram_id': 'None', 'birth_date': '01-01-2000'}\n",
      "{'name': {'S': 'Luke Wong'}, 'role': {'S': 'Member'}, 'cell_group': {'S': 'Bouquet'}, 'telegram_id': {'S': 'None'}, 'birth_date': {'S': '01-01-2000'}}\n",
      "UPLOADING ITEM\n",
      "{'ResponseMetadata': {'RequestId': 'NPNT54UT7A8A0PFFTAAOIQQ4H3VV4KQNSO5AEMVJF66Q9ASUAAJG', 'HTTPStatusCode': 200, 'HTTPHeaders': {'server': 'Server', 'date': 'Thu, 08 Feb 2024 04:02:22 GMT', 'content-type': 'application/x-amz-json-1.0', 'content-length': '2', 'connection': 'keep-alive', 'x-amzn-requestid': 'NPNT54UT7A8A0PFFTAAOIQQ4H3VV4KQNSO5AEMVJF66Q9ASUAAJG', 'x-amz-crc32': '2745614147'}, 'RetryAttempts': 0}}\n",
      "{'name': 'Phoebe Tay', 'role': 'Member', 'cell_group': 'Bouquet', 'telegram_id': 'None', 'birth_date': '01-01-2000'}\n",
      "{'name': {'S': 'Phoebe Tay'}, 'role': {'S': 'Member'}, 'cell_group': {'S': 'Bouquet'}, 'telegram_id': {'S': 'None'}, 'birth_date': {'S': '01-01-2000'}}\n",
      "UPLOADING ITEM\n",
      "{'ResponseMetadata': {'RequestId': 'FQUISJK2UCGG9GGKLVM56AS2A7VV4KQNSO5AEMVJF66Q9ASUAAJG', 'HTTPStatusCode': 200, 'HTTPHeaders': {'server': 'Server', 'date': 'Thu, 08 Feb 2024 04:02:22 GMT', 'content-type': 'application/x-amz-json-1.0', 'content-length': '2', 'connection': 'keep-alive', 'x-amzn-requestid': 'FQUISJK2UCGG9GGKLVM56AS2A7VV4KQNSO5AEMVJF66Q9ASUAAJG', 'x-amz-crc32': '2745614147'}, 'RetryAttempts': 0}}\n",
      "{'name': 'Samuel Teo', 'role': 'Member', 'cell_group': 'Bouquet', 'telegram_id': 'None', 'birth_date': '01-01-2000'}\n",
      "{'name': {'S': 'Samuel Teo'}, 'role': {'S': 'Member'}, 'cell_group': {'S': 'Bouquet'}, 'telegram_id': {'S': 'None'}, 'birth_date': {'S': '01-01-2000'}}\n",
      "UPLOADING ITEM\n",
      "{'ResponseMetadata': {'RequestId': '4JC3MB5F90UD24DTQO8JAAK6NNVV4KQNSO5AEMVJF66Q9ASUAAJG', 'HTTPStatusCode': 200, 'HTTPHeaders': {'server': 'Server', 'date': 'Thu, 08 Feb 2024 04:02:22 GMT', 'content-type': 'application/x-amz-json-1.0', 'content-length': '2', 'connection': 'keep-alive', 'x-amzn-requestid': '4JC3MB5F90UD24DTQO8JAAK6NNVV4KQNSO5AEMVJF66Q9ASUAAJG', 'x-amz-crc32': '2745614147'}, 'RetryAttempts': 0}}\n",
      "{'name': 'Ho Xiu Hui', 'role': 'Member', 'cell_group': 'Bouquet', 'telegram_id': 'None', 'birth_date': '01-01-2000'}\n",
      "{'name': {'S': 'Ho Xiu Hui'}, 'role': {'S': 'Member'}, 'cell_group': {'S': 'Bouquet'}, 'telegram_id': {'S': 'None'}, 'birth_date': {'S': '01-01-2000'}}\n",
      "UPLOADING ITEM\n",
      "{'ResponseMetadata': {'RequestId': 'OVM7NEJB75L68CAT80ITV0T2IRVV4KQNSO5AEMVJF66Q9ASUAAJG', 'HTTPStatusCode': 200, 'HTTPHeaders': {'server': 'Server', 'date': 'Thu, 08 Feb 2024 04:02:22 GMT', 'content-type': 'application/x-amz-json-1.0', 'content-length': '2', 'connection': 'keep-alive', 'x-amzn-requestid': 'OVM7NEJB75L68CAT80ITV0T2IRVV4KQNSO5AEMVJF66Q9ASUAAJG', 'x-amz-crc32': '2745614147'}, 'RetryAttempts': 0}}\n",
      "{'name': 'Zelia', 'role': 'Member', 'cell_group': 'Bouquet', 'telegram_id': 'None', 'birth_date': '01-01-2000'}\n",
      "{'name': {'S': 'Zelia'}, 'role': {'S': 'Member'}, 'cell_group': {'S': 'Bouquet'}, 'telegram_id': {'S': 'None'}, 'birth_date': {'S': '01-01-2000'}}\n",
      "UPLOADING ITEM\n",
      "{'ResponseMetadata': {'RequestId': 'M557MR7TIBNSLKNISOAM55VO2BVV4KQNSO5AEMVJF66Q9ASUAAJG', 'HTTPStatusCode': 200, 'HTTPHeaders': {'server': 'Server', 'date': 'Thu, 08 Feb 2024 04:02:22 GMT', 'content-type': 'application/x-amz-json-1.0', 'content-length': '2', 'connection': 'keep-alive', 'x-amzn-requestid': 'M557MR7TIBNSLKNISOAM55VO2BVV4KQNSO5AEMVJF66Q9ASUAAJG', 'x-amz-crc32': '2745614147'}, 'RetryAttempts': 0}}\n",
      "{'name': 'Ryan Wong', 'role': 'Member', 'cell_group': 'Bouquet', 'telegram_id': 'None', 'birth_date': '01-01-2000'}\n",
      "{'name': {'S': 'Ryan Wong'}, 'role': {'S': 'Member'}, 'cell_group': {'S': 'Bouquet'}, 'telegram_id': {'S': 'None'}, 'birth_date': {'S': '01-01-2000'}}\n",
      "UPLOADING ITEM\n",
      "{'ResponseMetadata': {'RequestId': 'H0FU1ON90SOIAQL9NAAB5UQ21VVV4KQNSO5AEMVJF66Q9ASUAAJG', 'HTTPStatusCode': 200, 'HTTPHeaders': {'server': 'Server', 'date': 'Thu, 08 Feb 2024 04:02:22 GMT', 'content-type': 'application/x-amz-json-1.0', 'content-length': '2', 'connection': 'keep-alive', 'x-amzn-requestid': 'H0FU1ON90SOIAQL9NAAB5UQ21VVV4KQNSO5AEMVJF66Q9ASUAAJG', 'x-amz-crc32': '2745614147'}, 'RetryAttempts': 0}}\n"
     ]
    }
   ],
   "source": [
    "## update member details first in the members.json\n",
    "## then run the following to update the table\n",
    "\n",
    "def upload():\n",
    "    with open('members.json', 'r') as datafile:\n",
    "        members = json.load(datafile)\n",
    "    for member in members:\n",
    "        print(member)\n",
    "        item = {\n",
    "                'name':{'S':member['name']},\n",
    "                'role':{'S':member['role']},\n",
    "                'cell_group':{'S': member['cell_group']},\n",
    "                'telegram_id':{'S': str(member['telegram_id'])},\n",
    "                'birth_date':{'S': member['birth_date']}\n",
    "        }\n",
    "        print(item)\n",
    "        response = dynamodb_client.put_item(\n",
    "            TableName='person', \n",
    "            Item=item\n",
    "        )\n",
    "        print(\"UPLOADING ITEM\")\n",
    "        print(response)\n",
    "\n",
    "upload()"
   ]
  },
  {
   "cell_type": "code",
   "execution_count": 21,
   "metadata": {},
   "outputs": [
    {
     "data": {
      "text/plain": [
       "['daniel']"
      ]
     },
     "execution_count": 21,
     "metadata": {},
     "output_type": "execute_result"
    }
   ],
   "source": [
    "list(set(['daniel']) - set(['Bobby Cheng', 'Bryan Yau', 'Caleb Chan', 'Chua Ting Wei', 'Eliot', 'Gilia Quek', 'Lee Chen Ya', 'Matthew Wong', 'Nadya Vijay']) - set(['Aaron Chiang', 'Bobby Cheng', 'Bryan Yau', 'Caleb Chan', 'Chua Ting Wei', 'Eliot', 'Gilia Quek', 'Lee Chen Ya', 'Matthew Wong', 'Nadya Vijay']))"
   ]
  },
  {
   "cell_type": "code",
   "execution_count": null,
   "metadata": {},
   "outputs": [],
   "source": []
  },
  {
   "cell_type": "code",
   "execution_count": 3,
   "metadata": {},
   "outputs": [
    {
     "data": {
      "text/plain": [
       "'710233436185'"
      ]
     },
     "execution_count": 3,
     "metadata": {},
     "output_type": "execute_result"
    }
   ],
   "source": [
    "boto3.client('sts').get_caller_identity().get('Account')"
   ]
  },
  {
   "cell_type": "code",
   "execution_count": 4,
   "metadata": {},
   "outputs": [
    {
     "data": {
      "text/plain": [
       "{'TableNames': ['items', 'person'],\n",
       " 'ResponseMetadata': {'RequestId': 'QOE3TM0167TKOHM84F1SPKKIL3VV4KQNSO5AEMVJF66Q9ASUAAJG',\n",
       "  'HTTPStatusCode': 200,\n",
       "  'HTTPHeaders': {'server': 'Server',\n",
       "   'date': 'Wed, 20 Dec 2023 12:59:40 GMT',\n",
       "   'content-type': 'application/x-amz-json-1.0',\n",
       "   'content-length': '33',\n",
       "   'connection': 'keep-alive',\n",
       "   'x-amzn-requestid': 'QOE3TM0167TKOHM84F1SPKKIL3VV4KQNSO5AEMVJF66Q9ASUAAJG',\n",
       "   'x-amz-crc32': '3937599791'},\n",
       "  'RetryAttempts': 0}}"
      ]
     },
     "execution_count": 4,
     "metadata": {},
     "output_type": "execute_result"
    }
   ],
   "source": [
    "boto3.client('dynamodb').list_tables()"
   ]
  },
  {
   "cell_type": "code",
   "execution_count": 5,
   "metadata": {},
   "outputs": [],
   "source": [
    "import boto3\n",
    "from boto3.dynamodb.conditions import Key\n",
    "\n",
    "TABLE_NAME = \"items\"\n",
    "\n",
    "# Creating the DynamoDB Client\n",
    "dynamodb_client = boto3.client('dynamodb')\n",
    "\n",
    "# Creating the DynamoDB Table Resource\n",
    "dynamodb = boto3.resource('dynamodb')\n",
    "table = dynamodb.Table(TABLE_NAME)"
   ]
  },
  {
   "cell_type": "code",
   "execution_count": 6,
   "metadata": {},
   "outputs": [
    {
     "name": "stdout",
     "output_type": "stream",
     "text": [
      "[{'description': 'buy 1 sock', 'owner': '76774805'}, {'description': 'buy 2 string', 'owner': '76774805'}, {'description': 'buy 3 doves', 'owner': '76774805'}]\n"
     ]
    }
   ],
   "source": [
    "response = table.query(\n",
    "  KeyConditionExpression=Key('owner').eq('76774805')\n",
    ")\n",
    "print(response['Items'])"
   ]
  },
  {
   "cell_type": "code",
   "execution_count": 7,
   "metadata": {},
   "outputs": [
    {
     "data": {
      "text/plain": [
       "[{'description': 'buy 1 sock', 'owner': '76774805'},\n",
       " {'description': 'buy 2 string', 'owner': '76774805'},\n",
       " {'description': 'buy 3 doves', 'owner': '76774805'}]"
      ]
     },
     "execution_count": 7,
     "metadata": {},
     "output_type": "execute_result"
    }
   ],
   "source": [
    "response = table.scan()\n",
    "items = response['Items']\n",
    "items"
   ]
  },
  {
   "cell_type": "code",
   "execution_count": 20,
   "metadata": {},
   "outputs": [
    {
     "name": "stdout",
     "output_type": "stream",
     "text": [
      "{'TableDescription': {'AttributeDefinitions': [{'AttributeName': 'name', 'AttributeType': 'S'}, {'AttributeName': 'role', 'AttributeType': 'S'}], 'TableName': 'person', 'KeySchema': [{'AttributeName': 'name', 'KeyType': 'HASH'}, {'AttributeName': 'role', 'KeyType': 'RANGE'}], 'TableStatus': 'CREATING', 'CreationDateTime': datetime.datetime(2023, 12, 20, 21, 9, 5, 727000, tzinfo=tzlocal()), 'ProvisionedThroughput': {'NumberOfDecreasesToday': 0, 'ReadCapacityUnits': 1, 'WriteCapacityUnits': 1}, 'TableSizeBytes': 0, 'ItemCount': 0, 'TableArn': 'arn:aws:dynamodb:ap-southeast-1:710233436185:table/person', 'TableId': '8b2ed5c2-436e-4b2f-a36d-3b14311c1517', 'DeletionProtectionEnabled': False}, 'ResponseMetadata': {'RequestId': 'KSEJNR3LIA8JEK7C9L1NNISFUNVV4KQNSO5AEMVJF66Q9ASUAAJG', 'HTTPStatusCode': 200, 'HTTPHeaders': {'server': 'Server', 'date': 'Wed, 20 Dec 2023 13:09:05 GMT', 'content-type': 'application/x-amz-json-1.0', 'content-length': '603', 'connection': 'keep-alive', 'x-amzn-requestid': 'KSEJNR3LIA8JEK7C9L1NNISFUNVV4KQNSO5AEMVJF66Q9ASUAAJG', 'x-amz-crc32': '3671559211'}, 'RetryAttempts': 0}}\n"
     ]
    }
   ],
   "source": [
    "response = dynamodb_client.create_table(\n",
    "    TableName = 'person',\n",
    "    KeySchema = [\n",
    "        {\n",
    "            \"AttributeName\":\"name\",\n",
    "            \"KeyType\":\"HASH\"\n",
    "        },\n",
    "        {\n",
    "            \"AttributeName\":\"role\",\n",
    "            \"KeyType\":\"RANGE\"\n",
    "        }\n",
    "    ],\n",
    "    AttributeDefinitions = [\n",
    "        {\n",
    "            \"AttributeName\":\"name\",\n",
    "            \"AttributeType\":\"S\"\n",
    "        },\n",
    "        {\n",
    "            \"AttributeName\":\"role\",\n",
    "            \"AttributeType\":\"S\"\n",
    "        }\n",
    "    ],\n",
    "    ProvisionedThroughput = {\n",
    "        \"ReadCapacityUnits\": 1,\n",
    "        \"WriteCapacityUnits\": 1\n",
    "    }\n",
    ")\n",
    "\n",
    "print(response)"
   ]
  },
  {
   "cell_type": "code",
   "execution_count": 22,
   "metadata": {},
   "outputs": [
    {
     "name": "stdout",
     "output_type": "stream",
     "text": [
      "{'name': 'Bobby Cheng', 'role': 'Leader', 'cell_group': 'ONE', 'telegram_id': 76774805, 'birth_date': '02-04-1994'}\n",
      "{'name': {'S': 'Bobby Cheng'}, 'role': {'S': 'Leader'}, 'cell_group': {'S': 'ONE'}, 'telegram_id': {'S': '76774805'}, 'birth_date': {'S': '02-04-1994'}}\n",
      "UPLOADING ITEM\n",
      "{'ResponseMetadata': {'RequestId': 'TUGDMR0M8K0ROHG5FS8ODQAM0NVV4KQNSO5AEMVJF66Q9ASUAAJG', 'HTTPStatusCode': 200, 'HTTPHeaders': {'server': 'Server', 'date': 'Wed, 20 Dec 2023 13:09:20 GMT', 'content-type': 'application/x-amz-json-1.0', 'content-length': '2', 'connection': 'keep-alive', 'x-amzn-requestid': 'TUGDMR0M8K0ROHG5FS8ODQAM0NVV4KQNSO5AEMVJF66Q9ASUAAJG', 'x-amz-crc32': '2745614147'}, 'RetryAttempts': 0}}\n",
      "{'name': 'Gilia Quek', 'role': 'Member', 'cell_group': 'ONE', 'telegram_id': 'None', 'birth_date': '01-01-2000'}\n",
      "{'name': {'S': 'Gilia Quek'}, 'role': {'S': 'Member'}, 'cell_group': {'S': 'ONE'}, 'telegram_id': {'S': 'None'}, 'birth_date': {'S': '01-01-2000'}}\n",
      "UPLOADING ITEM\n",
      "{'ResponseMetadata': {'RequestId': '9IUEN74UU25NM1H0KDQ9S4CE17VV4KQNSO5AEMVJF66Q9ASUAAJG', 'HTTPStatusCode': 200, 'HTTPHeaders': {'server': 'Server', 'date': 'Wed, 20 Dec 2023 13:09:20 GMT', 'content-type': 'application/x-amz-json-1.0', 'content-length': '2', 'connection': 'keep-alive', 'x-amzn-requestid': '9IUEN74UU25NM1H0KDQ9S4CE17VV4KQNSO5AEMVJF66Q9ASUAAJG', 'x-amz-crc32': '2745614147'}, 'RetryAttempts': 0}}\n",
      "{'name': 'Timothy Tan', 'role': 'Member', 'cell_group': 'ONE', 'telegram_id': 'None', 'birth_date': '01-01-2000'}\n",
      "{'name': {'S': 'Timothy Tan'}, 'role': {'S': 'Member'}, 'cell_group': {'S': 'ONE'}, 'telegram_id': {'S': 'None'}, 'birth_date': {'S': '01-01-2000'}}\n",
      "UPLOADING ITEM\n",
      "{'ResponseMetadata': {'RequestId': 'ERDG4GU55IA23OFBQJPK1EC49JVV4KQNSO5AEMVJF66Q9ASUAAJG', 'HTTPStatusCode': 200, 'HTTPHeaders': {'server': 'Server', 'date': 'Wed, 20 Dec 2023 13:09:20 GMT', 'content-type': 'application/x-amz-json-1.0', 'content-length': '2', 'connection': 'keep-alive', 'x-amzn-requestid': 'ERDG4GU55IA23OFBQJPK1EC49JVV4KQNSO5AEMVJF66Q9ASUAAJG', 'x-amz-crc32': '2745614147'}, 'RetryAttempts': 0}}\n",
      "{'name': 'Andrew Chen', 'role': 'Member', 'cell_group': 'Bouquet', 'telegram_id': 'None', 'birth_date': '01-01-2000'}\n",
      "{'name': {'S': 'Andrew Chen'}, 'role': {'S': 'Member'}, 'cell_group': {'S': 'Bouquet'}, 'telegram_id': {'S': 'None'}, 'birth_date': {'S': '01-01-2000'}}\n",
      "UPLOADING ITEM\n",
      "{'ResponseMetadata': {'RequestId': '7NUK7RA3VD9TS7OGTO5DHG229JVV4KQNSO5AEMVJF66Q9ASUAAJG', 'HTTPStatusCode': 200, 'HTTPHeaders': {'server': 'Server', 'date': 'Wed, 20 Dec 2023 13:09:20 GMT', 'content-type': 'application/x-amz-json-1.0', 'content-length': '2', 'connection': 'keep-alive', 'x-amzn-requestid': '7NUK7RA3VD9TS7OGTO5DHG229JVV4KQNSO5AEMVJF66Q9ASUAAJG', 'x-amz-crc32': '2745614147'}, 'RetryAttempts': 0}}\n",
      "{'name': 'Luke Wong', 'role': 'Member', 'cell_group': 'Bouquet', 'telegram_id': 'None', 'birth_date': '01-01-2000'}\n",
      "{'name': {'S': 'Luke Wong'}, 'role': {'S': 'Member'}, 'cell_group': {'S': 'Bouquet'}, 'telegram_id': {'S': 'None'}, 'birth_date': {'S': '01-01-2000'}}\n",
      "UPLOADING ITEM\n",
      "{'ResponseMetadata': {'RequestId': 'SE339J5O3VK761PCUD5RJ5OQTNVV4KQNSO5AEMVJF66Q9ASUAAJG', 'HTTPStatusCode': 200, 'HTTPHeaders': {'server': 'Server', 'date': 'Wed, 20 Dec 2023 13:09:20 GMT', 'content-type': 'application/x-amz-json-1.0', 'content-length': '2', 'connection': 'keep-alive', 'x-amzn-requestid': 'SE339J5O3VK761PCUD5RJ5OQTNVV4KQNSO5AEMVJF66Q9ASUAAJG', 'x-amz-crc32': '2745614147'}, 'RetryAttempts': 0}}\n",
      "{'name': 'Ian Lam', 'role': 'Member', 'cell_group': 'Kadesh', 'telegram_id': 'None', 'birth_date': '01-01-2000'}\n",
      "{'name': {'S': 'Ian Lam'}, 'role': {'S': 'Member'}, 'cell_group': {'S': 'Kadesh'}, 'telegram_id': {'S': 'None'}, 'birth_date': {'S': '01-01-2000'}}\n",
      "UPLOADING ITEM\n",
      "{'ResponseMetadata': {'RequestId': '0OFV1PNUNN234MJTD4UO0R3V6NVV4KQNSO5AEMVJF66Q9ASUAAJG', 'HTTPStatusCode': 200, 'HTTPHeaders': {'server': 'Server', 'date': 'Wed, 20 Dec 2023 13:09:20 GMT', 'content-type': 'application/x-amz-json-1.0', 'content-length': '2', 'connection': 'keep-alive', 'x-amzn-requestid': '0OFV1PNUNN234MJTD4UO0R3V6NVV4KQNSO5AEMVJF66Q9ASUAAJG', 'x-amz-crc32': '2745614147'}, 'RetryAttempts': 0}}\n"
     ]
    }
   ],
   "source": [
    "import json\n",
    "\n",
    "def upload():\n",
    "    with open('members.json', 'r') as datafile:\n",
    "        members = json.load(datafile)\n",
    "    for member in members:\n",
    "        print(member)\n",
    "        item = {\n",
    "                'name':{'S':member['name']},\n",
    "                'role':{'S':member['role']},\n",
    "                'cell_group':{'S': member['cell_group']},\n",
    "                'telegram_id':{'S': str(member['telegram_id'])},\n",
    "                'birth_date':{'S': member['birth_date']}\n",
    "        }\n",
    "        print(item)\n",
    "        response = dynamodb_client.put_item(\n",
    "            TableName='person', \n",
    "            Item=item\n",
    "        )\n",
    "        print(\"UPLOADING ITEM\")\n",
    "        print(response)\n",
    "\n",
    "upload()"
   ]
  },
  {
   "cell_type": "code",
   "execution_count": 23,
   "metadata": {},
   "outputs": [],
   "source": [
    "members = dynamodb.Table('person')"
   ]
  },
  {
   "cell_type": "code",
   "execution_count": 24,
   "metadata": {},
   "outputs": [
    {
     "data": {
      "text/plain": [
       "[{'birth_date': '01-01-2000',\n",
       "  'cell_group': 'Bouquet',\n",
       "  'role': 'Member',\n",
       "  'name': 'Andrew Chen',\n",
       "  'telegram_id': 'None'},\n",
       " {'birth_date': '01-01-2000',\n",
       "  'cell_group': 'Bouquet',\n",
       "  'role': 'Member',\n",
       "  'name': 'Luke Wong',\n",
       "  'telegram_id': 'None'},\n",
       " {'birth_date': '01-01-2000',\n",
       "  'cell_group': 'ONE',\n",
       "  'role': 'Member',\n",
       "  'name': 'Gilia Quek',\n",
       "  'telegram_id': 'None'},\n",
       " {'birth_date': '01-01-2000',\n",
       "  'cell_group': 'ONE',\n",
       "  'role': 'Member',\n",
       "  'name': 'Timothy Tan',\n",
       "  'telegram_id': 'None'},\n",
       " {'birth_date': '02-04-1994',\n",
       "  'cell_group': 'ONE',\n",
       "  'role': 'Leader',\n",
       "  'name': 'Bobby Cheng',\n",
       "  'telegram_id': '76774805'},\n",
       " {'birth_date': '01-01-2000',\n",
       "  'cell_group': 'Kadesh',\n",
       "  'role': 'Member',\n",
       "  'name': 'Ian Lam',\n",
       "  'telegram_id': 'None'}]"
      ]
     },
     "execution_count": 24,
     "metadata": {},
     "output_type": "execute_result"
    }
   ],
   "source": [
    "response = members.scan()\n",
    "items = response['Items']\n",
    "items"
   ]
  },
  {
   "cell_type": "code",
   "execution_count": 25,
   "metadata": {},
   "outputs": [
    {
     "data": {
      "text/html": [
       "<div>\n",
       "<style scoped>\n",
       "    .dataframe tbody tr th:only-of-type {\n",
       "        vertical-align: middle;\n",
       "    }\n",
       "\n",
       "    .dataframe tbody tr th {\n",
       "        vertical-align: top;\n",
       "    }\n",
       "\n",
       "    .dataframe thead th {\n",
       "        text-align: right;\n",
       "    }\n",
       "</style>\n",
       "<table border=\"1\" class=\"dataframe\">\n",
       "  <thead>\n",
       "    <tr style=\"text-align: right;\">\n",
       "      <th></th>\n",
       "      <th>birth_date</th>\n",
       "      <th>cell_group</th>\n",
       "      <th>role</th>\n",
       "      <th>name</th>\n",
       "      <th>telegram_id</th>\n",
       "    </tr>\n",
       "  </thead>\n",
       "  <tbody>\n",
       "    <tr>\n",
       "      <th>0</th>\n",
       "      <td>01-01-2000</td>\n",
       "      <td>Bouquet</td>\n",
       "      <td>Member</td>\n",
       "      <td>Andrew Chen</td>\n",
       "      <td>None</td>\n",
       "    </tr>\n",
       "    <tr>\n",
       "      <th>1</th>\n",
       "      <td>01-01-2000</td>\n",
       "      <td>Bouquet</td>\n",
       "      <td>Member</td>\n",
       "      <td>Luke Wong</td>\n",
       "      <td>None</td>\n",
       "    </tr>\n",
       "    <tr>\n",
       "      <th>2</th>\n",
       "      <td>01-01-2000</td>\n",
       "      <td>ONE</td>\n",
       "      <td>Member</td>\n",
       "      <td>Gilia Quek</td>\n",
       "      <td>None</td>\n",
       "    </tr>\n",
       "    <tr>\n",
       "      <th>3</th>\n",
       "      <td>01-01-2000</td>\n",
       "      <td>ONE</td>\n",
       "      <td>Member</td>\n",
       "      <td>Timothy Tan</td>\n",
       "      <td>None</td>\n",
       "    </tr>\n",
       "    <tr>\n",
       "      <th>4</th>\n",
       "      <td>02-04-1994</td>\n",
       "      <td>ONE</td>\n",
       "      <td>Leader</td>\n",
       "      <td>Bobby Cheng</td>\n",
       "      <td>76774805</td>\n",
       "    </tr>\n",
       "    <tr>\n",
       "      <th>5</th>\n",
       "      <td>01-01-2000</td>\n",
       "      <td>Kadesh</td>\n",
       "      <td>Member</td>\n",
       "      <td>Ian Lam</td>\n",
       "      <td>None</td>\n",
       "    </tr>\n",
       "  </tbody>\n",
       "</table>\n",
       "</div>"
      ],
      "text/plain": [
       "   birth_date cell_group    role         name telegram_id\n",
       "0  01-01-2000    Bouquet  Member  Andrew Chen        None\n",
       "1  01-01-2000    Bouquet  Member    Luke Wong        None\n",
       "2  01-01-2000        ONE  Member   Gilia Quek        None\n",
       "3  01-01-2000        ONE  Member  Timothy Tan        None\n",
       "4  02-04-1994        ONE  Leader  Bobby Cheng    76774805\n",
       "5  01-01-2000     Kadesh  Member      Ian Lam        None"
      ]
     },
     "execution_count": 25,
     "metadata": {},
     "output_type": "execute_result"
    }
   ],
   "source": [
    "pd.DataFrame(items)[]"
   ]
  },
  {
   "cell_type": "code",
   "execution_count": 25,
   "metadata": {},
   "outputs": [
    {
     "data": {
      "text/plain": [
       "['Matthias Chan',\n",
       " 'Jonathan Teo',\n",
       " 'Bryan Yau',\n",
       " 'Caleb Chan',\n",
       " 'Gilia Quek',\n",
       " 'Jasariel Chee',\n",
       " 'Aaron Chiang',\n",
       " 'Timothy Tan',\n",
       " 'Matthew Wong',\n",
       " 'Eliot',\n",
       " 'Wayne Lee',\n",
       " 'Michael Chua',\n",
       " 'Joel Lau',\n",
       " 'Sng Jia Jun',\n",
       " 'Nadya Vijay',\n",
       " 'Chua Ting Wei',\n",
       " 'Lee Chen Ya',\n",
       " 'Nikita']"
      ]
     },
     "execution_count": 25,
     "metadata": {},
     "output_type": "execute_result"
    }
   ],
   "source": [
    "stmt = \"SELECT name FROM person WHERE role = 'Member' and cell_group = '{}'\".format(\"ONE\")\n",
    "result = pd.json_normalize(dynamodb_client.execute_statement(Statement = stmt)['Items'])\n",
    "[x[0] for x in result.values]"
   ]
  },
  {
   "cell_type": "code",
   "execution_count": 28,
   "metadata": {},
   "outputs": [
    {
     "data": {
      "text/plain": [
       "{'Items': [],\n",
       " 'ResponseMetadata': {'RequestId': 'BF5BS196RUUHCU946FORFDGSRNVV4KQNSO5AEMVJF66Q9ASUAAJG',\n",
       "  'HTTPStatusCode': 200,\n",
       "  'HTTPHeaders': {'server': 'Server',\n",
       "   'date': 'Wed, 07 Feb 2024 14:09:58 GMT',\n",
       "   'content-type': 'application/x-amz-json-1.0',\n",
       "   'content-length': '12',\n",
       "   'connection': 'keep-alive',\n",
       "   'x-amzn-requestid': 'BF5BS196RUUHCU946FORFDGSRNVV4KQNSO5AEMVJF66Q9ASUAAJG',\n",
       "   'x-amz-crc32': '2770214093'},\n",
       "  'RetryAttempts': 0}}"
      ]
     },
     "execution_count": 28,
     "metadata": {},
     "output_type": "execute_result"
    }
   ],
   "source": [
    "stmt = \"DELETE FROM attendance WHERE attendance_type = 'Present' and name = '{}' and cell_group = '{}' and date_attended = '{}'\".format('Aaron Chiang', 'ONE', '2024-07-01 00:00:00')\n",
    "dynamodb_client.execute_statement(Statement = stmt)"
   ]
  },
  {
   "cell_type": "code",
   "execution_count": 26,
   "metadata": {},
   "outputs": [
    {
     "data": {
      "text/plain": [
       "['Kadesh', 'ONE', 'Bouquet']"
      ]
     },
     "execution_count": 26,
     "metadata": {},
     "output_type": "execute_result"
    }
   ],
   "source": [
    "stmt = \"SELECT cell_group FROM person\"\n",
    "result = pd.json_normalize(dynamodb_client.execute_statement(Statement = stmt)['Items'])\n",
    "list(set([x[0] for x in result.values]))"
   ]
  },
  {
   "cell_type": "code",
   "execution_count": 37,
   "metadata": {},
   "outputs": [
    {
     "data": {
      "text/plain": [
       "True"
      ]
     },
     "execution_count": 37,
     "metadata": {},
     "output_type": "execute_result"
    }
   ],
   "source": [
    "'/' in '02/04/1994'"
   ]
  },
  {
   "cell_type": "code",
   "execution_count": 49,
   "metadata": {},
   "outputs": [
    {
     "data": {
      "text/plain": [
       "['Gilia Quek', 'Timothy Tan', 'Bobby Cheng']"
      ]
     },
     "execution_count": 49,
     "metadata": {},
     "output_type": "execute_result"
    }
   ],
   "source": [
    "stmt = \"SELECT name FROM person WHERE cell_group = '{}'\".format('ONE')\n",
    "result = pd.json_normalize(dynamodb_client.execute_statement(Statement = stmt)['Items'])\n",
    "list(set([x[0] for x in result.values]))"
   ]
  },
  {
   "cell_type": "code",
   "execution_count": 27,
   "metadata": {},
   "outputs": [
    {
     "data": {
      "text/plain": [
       "[array(['ONE', '2024-01-17 00:00:00', 'Aaron Chiang'], dtype=object),\n",
       " array(['ONE', '2024-01-17 00:00:00', 'Caleb Chan'], dtype=object),\n",
       " array(['ONE', '2024-01-17 00:00:00', 'Chua Ting Wei'], dtype=object),\n",
       " array(['ONE', '2024-01-17 00:00:00', 'Eliot'], dtype=object),\n",
       " array(['ONE', '2024-01-17 00:00:00', 'Gilia Quek'], dtype=object),\n",
       " array(['ONE', '2024-01-17 00:00:00', 'Nadya Vijay'], dtype=object),\n",
       " array(['ONE', '2024-05-01 00:00:00', 'Caleb Chan'], dtype=object),\n",
       " array(['ONE', '2024-01-22 00:00:00', 'Wayne Lee'], dtype=object),\n",
       " array(['ONE', '2024-01-07 00:00:00', 'Aaron Chiang'], dtype=object),\n",
       " array(['ONE', '2024-01-07 00:00:00', 'Caleb Chan'], dtype=object),\n",
       " array(['ONE', '2024-01-07 00:00:00', 'Gilia Quek'], dtype=object),\n",
       " array(['ONE', '2024-01-07 00:00:00', 'Michael Chua'], dtype=object),\n",
       " array(['ONE', '2024-01-02 00:00:00', 'Aaron Chiang'], dtype=object),\n",
       " array(['ONE', '2024-01-02 00:00:00', 'Bobby Cheng'], dtype=object),\n",
       " array(['ONE', '2024-01-02 00:00:00', 'Bryan Yau'], dtype=object),\n",
       " array(['ONE', '2024-01-02 00:00:00', 'Caleb Chan'], dtype=object),\n",
       " array(['ONE', '2024-01-02 00:00:00', 'Chua Ting Wei'], dtype=object),\n",
       " array(['ONE', '2024-01-02 00:00:00', 'Eliot'], dtype=object),\n",
       " array(['ONE', '2024-01-02 00:00:00', 'GENESIS'], dtype=object),\n",
       " array(['ONE', '2024-01-02 00:00:00', 'Gilia Quek'], dtype=object),\n",
       " array(['ONE', '2024-01-02 00:00:00', 'Jasariel Chee'], dtype=object),\n",
       " array(['ONE', '2024-01-02 00:00:00', 'Joel Lau'], dtype=object),\n",
       " array(['ONE', '2024-01-02 00:00:00', 'Jonathan Teo'], dtype=object),\n",
       " array(['ONE', '2024-01-02 00:00:00', 'Lee Chen Ya'], dtype=object),\n",
       " array(['ONE', '2024-01-02 00:00:00', 'Matthew Wong'], dtype=object),\n",
       " array(['ONE', '2024-01-02 00:00:00', 'Matthias Chan'], dtype=object),\n",
       " array(['ONE', '2024-01-02 00:00:00', 'Michael Chua'], dtype=object),\n",
       " array(['ONE', '2024-01-02 00:00:00', 'Nadya Vijay'], dtype=object),\n",
       " array(['ONE', '2024-01-02 00:00:00', 'Nikita'], dtype=object),\n",
       " array(['ONE', '2024-01-02 00:00:00', 'Phoebe Chan'], dtype=object),\n",
       " array(['ONE', '2024-01-02 00:00:00', 'Sng Jia Jun'], dtype=object),\n",
       " array(['ONE', '2024-01-02 00:00:00', 'Timothy Tan'], dtype=object),\n",
       " array(['ONE', '2024-02-03 00:00:00', 'Aaron Chiang'], dtype=object),\n",
       " array(['ONE', '2024-02-03 00:00:00', 'Bobby Cheng'], dtype=object),\n",
       " array(['ONE', '2024-02-03 00:00:00', 'Bryan Yau'], dtype=object),\n",
       " array(['ONE', '2024-02-03 00:00:00', 'Caleb Chan'], dtype=object),\n",
       " array(['ONE', '2024-02-03 00:00:00', 'Chua Ting Wei'], dtype=object),\n",
       " array(['ONE', '2024-02-03 00:00:00', 'Eliot'], dtype=object),\n",
       " array(['ONE', '2024-02-03 00:00:00', 'Gilia Quek'], dtype=object),\n",
       " array(['ONE', '2024-02-03 00:00:00', 'Jasariel Chee'], dtype=object),\n",
       " array(['ONE', '2024-02-03 00:00:00', 'Sng Jia Jun'], dtype=object),\n",
       " array(['ONE', '21/05/23', 'Bobby Cheng'], dtype=object),\n",
       " array(['ONE', '21/05/23', 'Gilia Quek'], dtype=object),\n",
       " array(['ONE', '21/05/23', 'Timothy Tan'], dtype=object),\n",
       " array(['ONE', '2024-01-26 00:00:00', 'Aaron Chiang'], dtype=object),\n",
       " array(['ONE', '2024-01-26 00:00:00', 'Bobby Cheng'], dtype=object),\n",
       " array(['ONE', '2024-01-26 00:00:00', 'Bryan Yau'], dtype=object),\n",
       " array(['ONE', '2024-01-26 00:00:00', 'Caleb Chan'], dtype=object),\n",
       " array(['ONE', '2024-01-26 00:00:00', 'Chua Ting Wei'], dtype=object),\n",
       " array(['ONE', '2024-01-26 00:00:00', 'Jasariel Chee'], dtype=object),\n",
       " array(['ONE', '2024-01-26 00:00:00', 'Wayne Lee'], dtype=object),\n",
       " array(['ONE', '2024-02-20 00:00:00', 'Bobby Cheng'], dtype=object),\n",
       " array(['ONE', '2024-02-20 00:00:00', 'Caleb Chan'], dtype=object),\n",
       " array(['ONE', '2024-02-20 00:00:00', 'Chua Ting Wei'], dtype=object),\n",
       " array(['ONE', '2024-02-20 00:00:00', 'Joel Lau'], dtype=object),\n",
       " array(['ONE', '2024-02-20 00:00:00', 'Nadya Vijay'], dtype=object),\n",
       " array(['ONE', '2024-02-20 00:00:00', 'Sng Jia Jun'], dtype=object),\n",
       " array(['ONE', '2024-01-03 00:00:00', 'Aaron Chiang'], dtype=object),\n",
       " array(['ONE', '2024-01-03 00:00:00', 'Bobby Cheng'], dtype=object),\n",
       " array(['ONE', '2024-01-03 00:00:00', 'Bryan Yau'], dtype=object),\n",
       " array(['ONE', '2024-01-03 00:00:00', 'Caleb Chan'], dtype=object),\n",
       " array(['ONE', '2024-01-03 00:00:00', 'Chua Ting Wei'], dtype=object),\n",
       " array(['ONE', '2024-01-03 00:00:00', 'Eliot'], dtype=object),\n",
       " array(['ONE', '2024-01-03 00:00:00', 'GENESIS'], dtype=object),\n",
       " array(['ONE', '2024-01-03 00:00:00', 'Gilia Quek'], dtype=object),\n",
       " array(['ONE', '2024-01-03 00:00:00', 'Jonathan Teo'], dtype=object),\n",
       " array(['ONE', '2024-01-03 00:00:00', 'Lee Chen Ya'], dtype=object),\n",
       " array(['ONE', '2024-01-03 00:00:00', 'Matthew Wong'], dtype=object),\n",
       " array(['ONE', '2024-01-03 00:00:00', 'Nadya Vijay'], dtype=object),\n",
       " array(['ONE', '2024-01-03 00:00:00', 'Timothy Tan'], dtype=object),\n",
       " array(['ONE', '2024-06-01 00:00:00', 'Michael Chua'], dtype=object),\n",
       " array(['ONE', '2024-01-13 00:00:00', 'Bryan Yau'], dtype=object),\n",
       " array(['ONE', '2024-01-10 00:00:00', 'Joel Lau'], dtype=object),\n",
       " array(['ONE', '2024-01-10 00:00:00', 'Jonathan Teo'], dtype=object),\n",
       " array(['ONE', '2024-01-10 00:00:00', 'Matthew Wong'], dtype=object),\n",
       " array(['ONE', '2024-01-12 00:00:00', 'Aaron Chiang'], dtype=object),\n",
       " array(['ONE', '2024-01-12 00:00:00', 'Bobby Cheng'], dtype=object),\n",
       " array(['ONE', '2024-01-12 00:00:00', 'Bryan Yau'], dtype=object),\n",
       " array(['ONE', '2024-01-12 00:00:00', 'Chua Ting Wei'], dtype=object),\n",
       " array(['ONE', '2024-01-12 00:00:00', 'Eliot'], dtype=object),\n",
       " array(['ONE', '2024-01-12 00:00:00', 'Joel Lau'], dtype=object),\n",
       " array(['ONE', '2024-01-12 00:00:00', 'Jonathan Teo'], dtype=object),\n",
       " array(['ONE', '2024-02-01 00:00:00', 'Bobby Cheng'], dtype=object),\n",
       " array(['ONE', '2024-02-01 00:00:00', 'Caleb Chan'], dtype=object),\n",
       " array(['ONE', '2024-02-01 00:00:00', 'Gilia Quek'], dtype=object),\n",
       " array(['ONE', '2024-02-01 00:00:00', 'Joel Lau'], dtype=object),\n",
       " array(['ONE', '2024-01-05 00:00:00', 'Matthew Wong'], dtype=object),\n",
       " array(['ONE', '2024-01-05 00:00:00', 'Matthias Chan'], dtype=object),\n",
       " array(['ONE', '2024-01-01 00:00:00', 'Aaron Chiang'], dtype=object),\n",
       " array(['Bouquet', '2024-01-01 00:00:00', 'Andrew Chen'], dtype=object),\n",
       " array(['ONE', '2024-01-01 00:00:00', 'Bobby Cheng'], dtype=object),\n",
       " array(['ONE', '2024-01-01 00:00:00', 'Bryan Yau'], dtype=object),\n",
       " array(['ONE', '2024-01-01 00:00:00', 'Caleb Chan'], dtype=object),\n",
       " array(['ONE', '2024-01-01 00:00:00', 'Chua Ting Wei'], dtype=object),\n",
       " array(['ONE', '2024-01-01 00:00:00', 'Done'], dtype=object),\n",
       " array(['ONE', '2024-01-01 00:00:00', 'Eliot'], dtype=object),\n",
       " array(['ONE', '2024-01-01 00:00:00', 'Gilia Quek'], dtype=object),\n",
       " array(['Kadesh', '2024-01-01 00:00:00', 'Ian Lam'], dtype=object),\n",
       " array(['ONE', '2024-01-01 00:00:00', 'Jasariel Chee'], dtype=object),\n",
       " array(['ONE', '2024-01-01 00:00:00', 'Joel Lau'], dtype=object),\n",
       " array(['ONE', '2024-01-01 00:00:00', 'Jonathan Teo'], dtype=object),\n",
       " array(['ONE', '2024-01-01 00:00:00', 'Lee Chen Ya'], dtype=object),\n",
       " array(['Bouquet', '2024-01-01 00:00:00', 'Luke Wong'], dtype=object),\n",
       " array(['ONE', '2024-01-01 00:00:00', 'Matthew Wong'], dtype=object),\n",
       " array(['ONE', '2024-01-01 00:00:00', 'Matthias Chan'], dtype=object),\n",
       " array(['ONE', '2024-01-01 00:00:00', 'Michael Chua'], dtype=object),\n",
       " array(['ONE', '2024-01-01 00:00:00', 'Nadya Vijay'], dtype=object),\n",
       " array(['ONE', '2024-01-01 00:00:00', 'Nikita'], dtype=object),\n",
       " array(['ONE', '2024-01-01 00:00:00', 'Phoebe Chan'], dtype=object),\n",
       " array(['ONE', '2024-01-01 00:00:00', 'Sng Jia Jun'], dtype=object),\n",
       " array(['ONE', '2024-01-01 00:00:00', 'Timothy Tan'], dtype=object),\n",
       " array(['ONE', '2024-01-01 00:00:00', 'Wayne Lee'], dtype=object),\n",
       " array(['ONE', '2024-01-01 00:00:00', 'YOYOYOYO'], dtype=object),\n",
       " array(['ONE', '2024-03-01 00:00:00', 'Bobby Cheng'], dtype=object),\n",
       " array(['Kadesh', '28/05/23', 'Ian Lam'], dtype=object),\n",
       " array(['ONE', '28/05/23', 'Timothy Tan'], dtype=object),\n",
       " array(['ONE', '2024-01-06 00:00:00', 'Gilia Quek'], dtype=object),\n",
       " array(['ONE', '2024-01-06 00:00:00', 'Nadya Vijay'], dtype=object),\n",
       " array(['ONE', '2024-01-06 00:00:00', 'Phoebe Chan'], dtype=object),\n",
       " array(['ONE', '2024-01-11 00:00:00', 'Bryan Yau'], dtype=object),\n",
       " array(['ONE', '2024-01-11 00:00:00', 'Sng Jia Jun'], dtype=object),\n",
       " array(['ONE', '2024-01-11 00:00:00', 'Timothy Tan'], dtype=object),\n",
       " array(['ONE', '2024-01-15 00:00:00', 'Wayne Lee'], dtype=object),\n",
       " array(['ONE', '2024-07-01 00:00:00', 'Aaron Chiang'], dtype=object),\n",
       " array(['ONE', '2024-07-01 00:00:00', 'Bobby Cheng'], dtype=object),\n",
       " array(['ONE', '2024-07-01 00:00:00', 'Bryan Yau'], dtype=object),\n",
       " array(['ONE', '2024-07-01 00:00:00', 'Lee Chen Ya'], dtype=object),\n",
       " array(['ONE', '2024-07-01 00:00:00', 'Nadya Vijay'], dtype=object),\n",
       " array(['ONE', '2024-07-01 00:00:00', 'Timothy Tan'], dtype=object),\n",
       " array(['ONE', '2024-07-01 00:00:00', 'Wayne Lee'], dtype=object),\n",
       " array(['ONE', '2024-01-04 00:00:00', 'Chua Ting Wei'], dtype=object),\n",
       " array(['ONE', '2024-01-04 00:00:00', 'Jonathan Teo'], dtype=object),\n",
       " array(['ONE', '2024-01-04 00:00:00', 'Matthias Chan'], dtype=object),\n",
       " array(['ONE', '02/04/58', 'Gilia Quek'], dtype=object),\n",
       " array(['ONE', '02/04/58', 'Timothy Tan'], dtype=object)]"
      ]
     },
     "execution_count": 27,
     "metadata": {},
     "output_type": "execute_result"
    }
   ],
   "source": [
    "stmt = \"SELECT name, cell_group, date_attended FROM attendance\"# WHERE cell_group = '{}'\".format('ONE')\n",
    "result = pd.json_normalize(dynamodb_client.execute_statement(Statement = stmt)['Items'])\n",
    "list([x for x in result.values])"
   ]
  },
  {
   "cell_type": "code",
   "execution_count": 52,
   "metadata": {},
   "outputs": [],
   "source": [
    "members = dynamodb.Table('attendance')"
   ]
  },
  {
   "cell_type": "code",
   "execution_count": 53,
   "metadata": {},
   "outputs": [
    {
     "data": {
      "text/plain": [
       "[{'cell_group': 'ONE', 'date_attended': '21/05/23', 'name': 'Gilia Quek'},\n",
       " {'cell_group': 'ONE', 'date_attended': '21/05/23', 'name': 'Timothy Tan'}]"
      ]
     },
     "execution_count": 53,
     "metadata": {},
     "output_type": "execute_result"
    }
   ],
   "source": [
    "response = members.scan()\n",
    "items = response['Items']\n",
    "items"
   ]
  },
  {
   "cell_type": "code",
   "execution_count": 59,
   "metadata": {},
   "outputs": [
    {
     "data": {
      "text/plain": [
       "[]"
      ]
     },
     "execution_count": 59,
     "metadata": {},
     "output_type": "execute_result"
    }
   ],
   "source": [
    "stmt = \"SELECT name FROM attendance WHERE date_attended = '{}'\".fo/05/23')# WHERE cell_group = '{}'\".format('ONE')\n",
    "result = pd.json_normalize(dynamodb_client.execute_statement(Statement = stmt)['Items'])\n",
    "list([x[0] for x in result.values])"
   ]
  },
  {
   "cell_type": "code",
   "execution_count": 4,
   "metadata": {},
   "outputs": [],
   "source": [
    "test_dict = {'fef':121}"
   ]
  },
  {
   "cell_type": "code",
   "execution_count": 7,
   "metadata": {},
   "outputs": [
    {
     "data": {
      "text/plain": [
       "[]"
      ]
     },
     "execution_count": 7,
     "metadata": {},
     "output_type": "execute_result"
    }
   ],
   "source": [
    "test_dict.get('fe',[])"
   ]
  },
  {
   "cell_type": "code",
   "execution_count": 10,
   "metadata": {},
   "outputs": [
    {
     "name": "stdout",
     "output_type": "stream",
     "text": [
      "\n",
      "fefe\n",
      "\n",
      "gegegf\n"
     ]
    }
   ],
   "source": [
    "print('\\nfefe\\n\\ngegegf')"
   ]
  },
  {
   "cell_type": "code",
   "execution_count": 18,
   "metadata": {},
   "outputs": [
    {
     "data": {
      "text/plain": [
       "['max']"
      ]
     },
     "execution_count": 18,
     "metadata": {},
     "output_type": "execute_result"
    }
   ],
   "source": [
    "list(set(['john','max']) - set(['john','jeeez']))"
   ]
  },
  {
   "cell_type": "code",
   "execution_count": 15,
   "metadata": {},
   "outputs": [
    {
     "ename": "TypeError",
     "evalue": "unhashable type: 'list'",
     "output_type": "error",
     "traceback": [
      "\u001b[0;31m---------------------------------------------------------------------------\u001b[0m",
      "\u001b[0;31mTypeError\u001b[0m                                 Traceback (most recent call last)",
      "Cell \u001b[0;32mIn[15], line 1\u001b[0m\n\u001b[0;32m----> 1\u001b[0m \u001b[38;5;28;43mset\u001b[39;49m\u001b[43m(\u001b[49m\u001b[43m[\u001b[49m\u001b[43m[\u001b[49m\u001b[38;5;124;43m'\u001b[39;49m\u001b[38;5;124;43mjohn\u001b[39;49m\u001b[38;5;124;43m'\u001b[39;49m\u001b[43m,\u001b[49m\u001b[38;5;124;43m'\u001b[39;49m\u001b[38;5;124;43mmax\u001b[39;49m\u001b[38;5;124;43m'\u001b[39;49m\u001b[43m]\u001b[49m\u001b[43m,\u001b[49m\u001b[43m[\u001b[49m\u001b[38;5;124;43m'\u001b[39;49m\u001b[38;5;124;43mjohn\u001b[39;49m\u001b[38;5;124;43m'\u001b[39;49m\u001b[43m,\u001b[49m\u001b[38;5;124;43m'\u001b[39;49m\u001b[38;5;124;43mmax\u001b[39;49m\u001b[38;5;124;43m'\u001b[39;49m\u001b[43m]\u001b[49m\u001b[43m]\u001b[49m\u001b[43m)\u001b[49m\n",
      "\u001b[0;31mTypeError\u001b[0m: unhashable type: 'list'"
     ]
    }
   ],
   "source": [
    "set([['john','max'],['john','max']])"
   ]
  },
  {
   "cell_type": "code",
   "execution_count": 17,
   "metadata": {},
   "outputs": [
    {
     "data": {
      "text/plain": [
       "['john']"
      ]
     },
     "execution_count": 17,
     "metadata": {},
     "output_type": "execute_result"
    }
   ],
   "source": [
    "list(set(['john','max']).intersection(['john','jeeez']))"
   ]
  },
  {
   "cell_type": "code",
   "execution_count": 23,
   "metadata": {},
   "outputs": [
    {
     "name": "stdout",
     "output_type": "stream",
     "text": [
      "ge\n"
     ]
    }
   ],
   "source": [
    "if ['frf']:\n",
    "    print('ge')"
   ]
  }
 ],
 "metadata": {
  "kernelspec": {
   "display_name": "venv",
   "language": "python",
   "name": "python3"
  },
  "language_info": {
   "codemirror_mode": {
    "name": "ipython",
    "version": 3
   },
   "file_extension": ".py",
   "mimetype": "text/x-python",
   "name": "python",
   "nbconvert_exporter": "python",
   "pygments_lexer": "ipython3",
   "version": "3.8.2"
  }
 },
 "nbformat": 4,
 "nbformat_minor": 2
}
